{
 "cells": [
  {
   "cell_type": "code",
   "execution_count": 1,
   "metadata": {},
   "outputs": [],
   "source": [
    "import warnings\n",
    "warnings.filterwarnings(\"ignore\")\n",
    "\n",
    "import numpy as np\n",
    "import pandas as pd\n",
    "\n",
    "import seaborn as sns\n",
    "import matplotlib.pyplot as plt\n",
    "\n",
    "import continuous_probabilistic_methods"
   ]
  },
  {
   "cell_type": "markdown",
   "metadata": {},
   "source": [
    "### 1. Using lemonade.csv dataset and focusing on continuous variables"
   ]
  },
  {
   "cell_type": "code",
   "execution_count": 2,
   "metadata": {},
   "outputs": [
    {
     "name": "stdout",
     "output_type": "stream",
     "text": [
      "(365, 7)\n"
     ]
    },
    {
     "data": {
      "text/html": [
       "<div>\n",
       "<style scoped>\n",
       "    .dataframe tbody tr th:only-of-type {\n",
       "        vertical-align: middle;\n",
       "    }\n",
       "\n",
       "    .dataframe tbody tr th {\n",
       "        vertical-align: top;\n",
       "    }\n",
       "\n",
       "    .dataframe thead th {\n",
       "        text-align: right;\n",
       "    }\n",
       "</style>\n",
       "<table border=\"1\" class=\"dataframe\">\n",
       "  <thead>\n",
       "    <tr style=\"text-align: right;\">\n",
       "      <th></th>\n",
       "      <th>Date</th>\n",
       "      <th>Day</th>\n",
       "      <th>Temperature</th>\n",
       "      <th>Rainfall</th>\n",
       "      <th>Flyers</th>\n",
       "      <th>Price</th>\n",
       "      <th>Sales</th>\n",
       "    </tr>\n",
       "  </thead>\n",
       "  <tbody>\n",
       "    <tr>\n",
       "      <th>0</th>\n",
       "      <td>1/1/17</td>\n",
       "      <td>Sunday</td>\n",
       "      <td>27.0</td>\n",
       "      <td>2.00</td>\n",
       "      <td>15</td>\n",
       "      <td>0.5</td>\n",
       "      <td>10</td>\n",
       "    </tr>\n",
       "    <tr>\n",
       "      <th>1</th>\n",
       "      <td>1/2/17</td>\n",
       "      <td>Monday</td>\n",
       "      <td>28.9</td>\n",
       "      <td>1.33</td>\n",
       "      <td>15</td>\n",
       "      <td>0.5</td>\n",
       "      <td>13</td>\n",
       "    </tr>\n",
       "    <tr>\n",
       "      <th>2</th>\n",
       "      <td>1/3/17</td>\n",
       "      <td>Tuesday</td>\n",
       "      <td>34.5</td>\n",
       "      <td>1.33</td>\n",
       "      <td>27</td>\n",
       "      <td>0.5</td>\n",
       "      <td>15</td>\n",
       "    </tr>\n",
       "    <tr>\n",
       "      <th>3</th>\n",
       "      <td>1/4/17</td>\n",
       "      <td>Wednesday</td>\n",
       "      <td>44.1</td>\n",
       "      <td>1.05</td>\n",
       "      <td>28</td>\n",
       "      <td>0.5</td>\n",
       "      <td>17</td>\n",
       "    </tr>\n",
       "    <tr>\n",
       "      <th>4</th>\n",
       "      <td>1/5/17</td>\n",
       "      <td>Thursday</td>\n",
       "      <td>42.4</td>\n",
       "      <td>1.00</td>\n",
       "      <td>33</td>\n",
       "      <td>0.5</td>\n",
       "      <td>18</td>\n",
       "    </tr>\n",
       "  </tbody>\n",
       "</table>\n",
       "</div>"
      ],
      "text/plain": [
       "     Date        Day  Temperature  Rainfall  Flyers  Price  Sales\n",
       "0  1/1/17     Sunday         27.0      2.00      15    0.5     10\n",
       "1  1/2/17     Monday         28.9      1.33      15    0.5     13\n",
       "2  1/3/17    Tuesday         34.5      1.33      27    0.5     15\n",
       "3  1/4/17  Wednesday         44.1      1.05      28    0.5     17\n",
       "4  1/5/17   Thursday         42.4      1.00      33    0.5     18"
      ]
     },
     "execution_count": 2,
     "metadata": {},
     "output_type": "execute_result"
    }
   ],
   "source": [
    "# Load lemonade.csv\n",
    "\n",
    "url = 'https://gist.githubusercontent.com/ryanorsinger/19bc7eccd6279661bd13307026628ace/raw/e4b5d6787015a4782f96cad6d1d62a8bdbac54c7/lemonade.csv'\n",
    "\n",
    "df = pd.read_csv(url)\n",
    "\n",
    "# Quick summarize data set\n",
    "print(df.shape)\n",
    "df.head()"
   ]
  },
  {
   "cell_type": "code",
   "execution_count": 3,
   "metadata": {
    "scrolled": true
   },
   "outputs": [
    {
     "name": "stdout",
     "output_type": "stream",
     "text": [
      "<class 'pandas.core.frame.DataFrame'>\n",
      "RangeIndex: 365 entries, 0 to 364\n",
      "Data columns (total 7 columns):\n",
      " #   Column       Non-Null Count  Dtype  \n",
      "---  ------       --------------  -----  \n",
      " 0   Date         365 non-null    object \n",
      " 1   Day          365 non-null    object \n",
      " 2   Temperature  365 non-null    float64\n",
      " 3   Rainfall     365 non-null    float64\n",
      " 4   Flyers       365 non-null    int64  \n",
      " 5   Price        365 non-null    float64\n",
      " 6   Sales        365 non-null    int64  \n",
      "dtypes: float64(3), int64(2), object(2)\n",
      "memory usage: 20.1+ KB\n"
     ]
    }
   ],
   "source": [
    "df.info()"
   ]
  },
  {
   "cell_type": "code",
   "execution_count": 4,
   "metadata": {},
   "outputs": [
    {
     "data": {
      "text/html": [
       "<div>\n",
       "<style scoped>\n",
       "    .dataframe tbody tr th:only-of-type {\n",
       "        vertical-align: middle;\n",
       "    }\n",
       "\n",
       "    .dataframe tbody tr th {\n",
       "        vertical-align: top;\n",
       "    }\n",
       "\n",
       "    .dataframe thead th {\n",
       "        text-align: right;\n",
       "    }\n",
       "</style>\n",
       "<table border=\"1\" class=\"dataframe\">\n",
       "  <thead>\n",
       "    <tr style=\"text-align: right;\">\n",
       "      <th></th>\n",
       "      <th>Temperature</th>\n",
       "      <th>Rainfall</th>\n",
       "      <th>Flyers</th>\n",
       "      <th>Price</th>\n",
       "      <th>Sales</th>\n",
       "    </tr>\n",
       "  </thead>\n",
       "  <tbody>\n",
       "    <tr>\n",
       "      <th>count</th>\n",
       "      <td>365.000000</td>\n",
       "      <td>365.000000</td>\n",
       "      <td>365.000000</td>\n",
       "      <td>365.0</td>\n",
       "      <td>365.000000</td>\n",
       "    </tr>\n",
       "    <tr>\n",
       "      <th>mean</th>\n",
       "      <td>61.224658</td>\n",
       "      <td>0.825973</td>\n",
       "      <td>40.104110</td>\n",
       "      <td>0.5</td>\n",
       "      <td>27.865753</td>\n",
       "    </tr>\n",
       "    <tr>\n",
       "      <th>std</th>\n",
       "      <td>18.085892</td>\n",
       "      <td>0.273890</td>\n",
       "      <td>13.786445</td>\n",
       "      <td>0.0</td>\n",
       "      <td>30.948132</td>\n",
       "    </tr>\n",
       "    <tr>\n",
       "      <th>min</th>\n",
       "      <td>15.100000</td>\n",
       "      <td>0.400000</td>\n",
       "      <td>-38.000000</td>\n",
       "      <td>0.5</td>\n",
       "      <td>7.000000</td>\n",
       "    </tr>\n",
       "    <tr>\n",
       "      <th>25%</th>\n",
       "      <td>49.700000</td>\n",
       "      <td>0.650000</td>\n",
       "      <td>31.000000</td>\n",
       "      <td>0.5</td>\n",
       "      <td>20.000000</td>\n",
       "    </tr>\n",
       "    <tr>\n",
       "      <th>50%</th>\n",
       "      <td>61.100000</td>\n",
       "      <td>0.740000</td>\n",
       "      <td>39.000000</td>\n",
       "      <td>0.5</td>\n",
       "      <td>25.000000</td>\n",
       "    </tr>\n",
       "    <tr>\n",
       "      <th>75%</th>\n",
       "      <td>71.700000</td>\n",
       "      <td>0.910000</td>\n",
       "      <td>49.000000</td>\n",
       "      <td>0.5</td>\n",
       "      <td>30.000000</td>\n",
       "    </tr>\n",
       "    <tr>\n",
       "      <th>max</th>\n",
       "      <td>212.000000</td>\n",
       "      <td>2.500000</td>\n",
       "      <td>80.000000</td>\n",
       "      <td>0.5</td>\n",
       "      <td>534.000000</td>\n",
       "    </tr>\n",
       "  </tbody>\n",
       "</table>\n",
       "</div>"
      ],
      "text/plain": [
       "       Temperature    Rainfall      Flyers  Price       Sales\n",
       "count   365.000000  365.000000  365.000000  365.0  365.000000\n",
       "mean     61.224658    0.825973   40.104110    0.5   27.865753\n",
       "std      18.085892    0.273890   13.786445    0.0   30.948132\n",
       "min      15.100000    0.400000  -38.000000    0.5    7.000000\n",
       "25%      49.700000    0.650000   31.000000    0.5   20.000000\n",
       "50%      61.100000    0.740000   39.000000    0.5   25.000000\n",
       "75%      71.700000    0.910000   49.000000    0.5   30.000000\n",
       "max     212.000000    2.500000   80.000000    0.5  534.000000"
      ]
     },
     "execution_count": 4,
     "metadata": {},
     "output_type": "execute_result"
    }
   ],
   "source": [
    "# Print the descriptive statistics\n",
    "df.describe() # Price is the same for all. "
   ]
  },
  {
   "cell_type": "code",
   "execution_count": 18,
   "metadata": {},
   "outputs": [
    {
     "data": {
      "text/plain": [
       "0.5    365\n",
       "Name: Price, dtype: int64"
      ]
     },
     "execution_count": 18,
     "metadata": {},
     "output_type": "execute_result"
    }
   ],
   "source": [
    "# Is price a categorical variable?\n",
    "df.Price.value_counts() # The price is the same for all the observations"
   ]
  },
  {
   "cell_type": "code",
   "execution_count": 22,
   "metadata": {
    "scrolled": false
   },
   "outputs": [
    {
     "data": {
      "image/png": "[encoded data removed]",
      "text/plain": [
       "<Figure size 936x936 with 4 Axes>"
      ]
     },
     "metadata": {
      "needs_background": "light"
     },
     "output_type": "display_data"
    }
   ],
   "source": [
    "# Visualize the 4 continuous variables\n",
    "\n",
    "fig, axs = plt.subplots(4, 1, figsize=(13,13))\n",
    "\n",
    "for ax, col in zip(axs, continuous):\n",
    "    df[col].plot.hist(ax=ax, bins=30)\n",
    "    ax.set(title=col)\n",
    "fig.tight_layout()"
   ]
  },
  {
   "cell_type": "markdown",
   "metadata": {},
   "source": [
    "### 1-1. Use the IQR Range Rule and the upper and lower bounds to identify the lower/upper outliers of each column of `lemonade.csv`, using the multiplier of 1.5. Do these lower outliers make sense?Which outliers should be kept?"
   ]
  },
  {
   "cell_type": "code",
   "execution_count": 5,
   "metadata": {},
   "outputs": [
    {
     "data": {
      "text/plain": [
       "Index(['Date', 'Day', 'Temperature', 'Rainfall', 'Flyers', 'Price', 'Sales'], dtype='object')"
      ]
     },
     "execution_count": 5,
     "metadata": {},
     "output_type": "execute_result"
    }
   ],
   "source": [
    "# Print out column names\n",
    "df.columns"
   ]
  },
  {
   "cell_type": "code",
   "execution_count": 19,
   "metadata": {},
   "outputs": [
    {
     "data": {
      "text/plain": [
       "['Temperature', 'Rainfall', 'Flyers', 'Sales']"
      ]
     },
     "execution_count": 19,
     "metadata": {},
     "output_type": "execute_result"
    }
   ],
   "source": [
    "# Create a varible holding the names of continuous variables\n",
    "continuous = ['Temperature', 'Rainfall', 'Flyers', 'Sales']\n",
    "continuous"
   ]
  },
  {
   "cell_type": "code",
   "execution_count": 20,
   "metadata": {
    "scrolled": false
   },
   "outputs": [
    {
     "name": "stdout",
     "output_type": "stream",
     "text": [
      "The mild lower outliers of Temperature: 364   -1.6\n",
      "Name: Temperature, dtype: float64\n",
      "The mild upper outliers of Temperature: 41    107.3\n",
      "Name: Temperature, dtype: float64\n",
      "---------\n",
      "The mild lower outliers of Rainfall: Series([], Name: Rainfall, dtype: int64)\n",
      "The mild upper outliers of Rainfall: 0      0.70\n",
      "1      0.03\n",
      "2      0.03\n",
      "5      0.24\n",
      "6      0.24\n",
      "10     0.24\n",
      "11     0.03\n",
      "12     0.03\n",
      "15     0.37\n",
      "16     0.13\n",
      "19     0.13\n",
      "23     0.24\n",
      "27     0.03\n",
      "28     0.03\n",
      "337    0.24\n",
      "338    0.52\n",
      "342    0.13\n",
      "343    0.52\n",
      "345    0.03\n",
      "346    0.13\n",
      "347    0.24\n",
      "350    0.03\n",
      "351    0.13\n",
      "354    0.03\n",
      "355    0.24\n",
      "359    0.13\n",
      "363    0.13\n",
      "364    1.20\n",
      "Name: Rainfall, dtype: float64\n",
      "---------\n",
      "The mild lower outliers of Flyers: 324   -42.0\n",
      "Name: Flyers, dtype: float64\n",
      "The mild upper outliers of Flyers: 166    1.0\n",
      "194    4.0\n",
      "Name: Flyers, dtype: float64\n",
      "---------\n",
      "The mild lower outliers of Sales: Series([], Name: Sales, dtype: int64)\n",
      "The mild upper outliers of Sales: 181     98.0\n",
      "182    113.0\n",
      "183    190.0\n",
      "184    489.0\n",
      "Name: Sales, dtype: float64\n",
      "---------\n"
     ]
    }
   ],
   "source": [
    "for col in continuous:\n",
    "    lower, upper = continuous_probabilistic_methods.get_lower_and_upper_bounds(df[col])\n",
    "    print(f'The mild lower outliers of {col}:', lower)\n",
    "    print(f'The mild upper outliers of {col}:', upper)\n",
    "    print('---------')"
   ]
  },
  {
   "cell_type": "markdown",
   "metadata": {},
   "source": [
    "### 1-1. Use the IQR Range Rule and the upper and lower bounds to identify the lower/upper outliers of each column of `lemonade.csv`, using the multiplier of 3. Do these lower outliers make sense?Which outliers should be kept?"
   ]
  },
  {
   "cell_type": "code",
   "execution_count": 21,
   "metadata": {},
   "outputs": [
    {
     "name": "stdout",
     "output_type": "stream",
     "text": [
      "The extreme lower outliers of Temperature: Series([], Name: Temperature, dtype: int64)\n",
      "The extreme upper outliers of Temperature: 41    74.3\n",
      "Name: Temperature, dtype: float64\n",
      "---------\n",
      "The extreme lower outliers of Rainfall: Series([], Name: Rainfall, dtype: int64)\n",
      "The extreme upper outliers of Rainfall: 0      0.31\n",
      "338    0.13\n",
      "343    0.13\n",
      "364    0.81\n",
      "Name: Rainfall, dtype: float64\n",
      "---------\n",
      "The extreme lower outliers of Flyers: 324   -15.0\n",
      "Name: Flyers, dtype: float64\n",
      "The extreme upper outliers of Flyers: Series([], Name: Flyers, dtype: int64)\n",
      "---------\n",
      "The extreme lower outliers of Sales: Series([], Name: Sales, dtype: int64)\n",
      "The extreme upper outliers of Sales: 181     83.0\n",
      "182     98.0\n",
      "183    175.0\n",
      "184    474.0\n",
      "Name: Sales, dtype: float64\n",
      "---------\n"
     ]
    }
   ],
   "source": [
    "for col in continuous:\n",
    "    lower, upper = continuous_probabilistic_methods.get_lower_and_upper_bounds(df[col], k=3.0)\n",
    "    print(f'The extreme lower outliers of {col}:', lower)\n",
    "    print(f'The extreme upper outliers of {col}:', upper)\n",
    "    print('---------')"
   ]
  },
  {
   "cell_type": "markdown",
   "metadata": {},
   "source": [
    "### 2. Identify if any columns in lemonade.csv are normally distributed. For normally distributed columns: \n",
    "- Use a 2 sigma decision rule to isolate the outliers.\n",
    "- Do these make sense?\n",
    "- Should certain outliers be kept or removed?"
   ]
  },
  {
   "cell_type": "code",
   "execution_count": 28,
   "metadata": {},
   "outputs": [
    {
     "name": "stdout",
     "output_type": "stream",
     "text": [
      "The outliers by 2 sigma for Temperature 41     212.0\n",
      "166     99.3\n",
      "176    102.6\n",
      "181    102.9\n",
      "190     98.0\n",
      "198     99.3\n",
      "202     99.6\n",
      "207     97.9\n",
      "338     22.0\n",
      "364     15.1\n",
      "Name: Temperature, dtype: float64\n",
      "------------\n",
      "The outliers by 2 sigma for Flyers 166    77\n",
      "170    70\n",
      "171    76\n",
      "182    68\n",
      "183    68\n",
      "194    80\n",
      "198    76\n",
      "203    72\n",
      "204    69\n",
      "207    74\n",
      "324   -38\n",
      "338    11\n",
      "364     9\n",
      "Name: Flyers, dtype: int64\n",
      "------------\n",
      "The outliers by 2 sigma for Sales 181    143\n",
      "182    158\n",
      "183    235\n",
      "184    534\n",
      "Name: Sales, dtype: int64\n",
      "------------\n"
     ]
    }
   ],
   "source": [
    "# Create a variable to hold the names of normal distributed col\n",
    "normal_dist_cols = ['Temperature', 'Flyers', 'Sales']\n",
    "\n",
    "# For Loop to print out the outliers by 2 sigma decision rule for each column\n",
    "\n",
    "for col in normal_dist_cols:\n",
    "    zscores = (df[col] - df[col].mean())/df[col].std()\n",
    "    print(f'The outliers by 2 sigma for {col}', df[col][zscores.abs() >= 2])\n",
    "    print('------------')"
   ]
  },
  {
   "cell_type": "code",
   "execution_count": 29,
   "metadata": {},
   "outputs": [
    {
     "name": "stdout",
     "output_type": "stream",
     "text": [
      "The outliers by 3 sigma for Temperature 41    212.0\n",
      "Name: Temperature, dtype: float64\n",
      "------------\n",
      "The outliers by 3 sigma for Flyers 324   -38\n",
      "Name: Flyers, dtype: int64\n",
      "------------\n",
      "The outliers by 3 sigma for Sales 181    143\n",
      "182    158\n",
      "183    235\n",
      "184    534\n",
      "Name: Sales, dtype: int64\n",
      "------------\n"
     ]
    }
   ],
   "source": [
    "# For Loop to print out the outliers by 3 sigma decision rule for each column\n",
    "\n",
    "for col in normal_dist_cols:\n",
    "    zscores = (df[col] - df[col].mean())/df[col].std()\n",
    "    print(f'The outliers by 3 sigma for {col}', df[col][zscores.abs() >= 3])\n",
    "    print('------------')"
   ]
  },
  {
   "cell_type": "code",
   "execution_count": null,
   "metadata": {},
   "outputs": [],
   "source": []
  }
 ],
 "metadata": {
  "kernelspec": {
   "display_name": "Python 3",
   "language": "python",
   "name": "python3"
  },
  "language_info": {
   "codemirror_mode": {
    "name": "ipython",
    "version": 3
   },
   "file_extension": ".py",
   "mimetype": "text/x-python",
   "name": "python",
   "nbconvert_exporter": "python",
   "pygments_lexer": "ipython3",
   "version": "3.7.6"
  }
 },
 "nbformat": 4,
 "nbformat_minor": 4
}
