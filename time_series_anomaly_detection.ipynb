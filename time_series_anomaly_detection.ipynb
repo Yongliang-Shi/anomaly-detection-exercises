{
 "cells": [
  {
   "cell_type": "markdown",
   "metadata": {},
   "source": [
    "## Exercises\n",
    "- Discover **users** who are accessing our curriculum pages way beyond the end of their codeup time. What would the dataframe look like? Use time series method for detecting anomalies, like exponential moving average with %b.\n",
    "\n",
    "Bonus:\n",
    "\n",
    "- Can you label students who are viewing both the web dev and data science curriculum? \n",
    "- Can you label students by the program they are in? \n",
    "- Can you label users by student vs. staff? \n",
    "- What are Zach, Maggie, Faith, and Ryan's ids?"
   ]
  },
  {
   "cell_type": "markdown",
   "metadata": {},
   "source": [
    "### Prepare Environment"
   ]
  },
  {
   "cell_type": "code",
   "execution_count": 177,
   "metadata": {},
   "outputs": [],
   "source": [
    "import numpy as np\n",
    "import pandas as pd\n",
    "import math\n",
    "from sklearn import metrics\n",
    "\n",
    "from scipy.stats import entropy\n",
    "\n",
    "import warnings\n",
    "warnings.filterwarnings(\"ignore\")\n",
    "import matplotlib.pyplot as plt\n",
    "import matplotlib.dates as mdates #to format dates on our plots\n",
    "%matplotlib inline\n",
    "import seaborn as sns\n",
    "\n",
    "# This is to make sure matplotlib doesn't throw the following error:\n",
    "# The next line fixes \"TypeError: float() argument must be a string or a number, not 'Timestamp' matplotlib\"\n",
    "pd.plotting.register_matplotlib_converters()"
   ]
  },
  {
   "cell_type": "code",
   "execution_count": 178,
   "metadata": {},
   "outputs": [],
   "source": [
    "# plotting defaults\n",
    "plt.rc('figure', figsize=(13, 7))\n",
    "plt.style.use('seaborn-whitegrid')\n",
    "plt.rc('font', size=16)"
   ]
  },
  {
   "cell_type": "markdown",
   "metadata": {},
   "source": [
    "### Acquire\n",
    "- Data source: curriculum-access.txt"
   ]
  },
  {
   "cell_type": "code",
   "execution_count": 179,
   "metadata": {},
   "outputs": [
    {
     "data": {
      "text/html": [
       "<div>\n",
       "<style scoped>\n",
       "    .dataframe tbody tr th:only-of-type {\n",
       "        vertical-align: middle;\n",
       "    }\n",
       "\n",
       "    .dataframe tbody tr th {\n",
       "        vertical-align: top;\n",
       "    }\n",
       "\n",
       "    .dataframe thead th {\n",
       "        text-align: right;\n",
       "    }\n",
       "</style>\n",
       "<table border=\"1\" class=\"dataframe\">\n",
       "  <thead>\n",
       "    <tr style=\"text-align: right;\">\n",
       "      <th></th>\n",
       "      <th>0</th>\n",
       "      <th>1</th>\n",
       "      <th>2</th>\n",
       "      <th>3</th>\n",
       "      <th>4</th>\n",
       "      <th>5</th>\n",
       "    </tr>\n",
       "  </thead>\n",
       "  <tbody>\n",
       "    <tr>\n",
       "      <th>0</th>\n",
       "      <td>2018-01-26</td>\n",
       "      <td>09:55:03</td>\n",
       "      <td>/</td>\n",
       "      <td>1</td>\n",
       "      <td>8.0</td>\n",
       "      <td>97.105.19.61</td>\n",
       "    </tr>\n",
       "    <tr>\n",
       "      <th>1</th>\n",
       "      <td>2018-01-26</td>\n",
       "      <td>09:56:02</td>\n",
       "      <td>java-ii</td>\n",
       "      <td>1</td>\n",
       "      <td>8.0</td>\n",
       "      <td>97.105.19.61</td>\n",
       "    </tr>\n",
       "    <tr>\n",
       "      <th>2</th>\n",
       "      <td>2018-01-26</td>\n",
       "      <td>09:56:05</td>\n",
       "      <td>java-ii/object-oriented-programming</td>\n",
       "      <td>1</td>\n",
       "      <td>8.0</td>\n",
       "      <td>97.105.19.61</td>\n",
       "    </tr>\n",
       "    <tr>\n",
       "      <th>3</th>\n",
       "      <td>2018-01-26</td>\n",
       "      <td>09:56:06</td>\n",
       "      <td>slides/object_oriented_programming</td>\n",
       "      <td>1</td>\n",
       "      <td>8.0</td>\n",
       "      <td>97.105.19.61</td>\n",
       "    </tr>\n",
       "    <tr>\n",
       "      <th>4</th>\n",
       "      <td>2018-01-26</td>\n",
       "      <td>09:56:24</td>\n",
       "      <td>javascript-i/conditionals</td>\n",
       "      <td>2</td>\n",
       "      <td>22.0</td>\n",
       "      <td>97.105.19.61</td>\n",
       "    </tr>\n",
       "  </tbody>\n",
       "</table>\n",
       "</div>"
      ],
      "text/plain": [
       "            0         1                                    2  3     4  \\\n",
       "0  2018-01-26  09:55:03                                    /  1   8.0   \n",
       "1  2018-01-26  09:56:02                              java-ii  1   8.0   \n",
       "2  2018-01-26  09:56:05  java-ii/object-oriented-programming  1   8.0   \n",
       "3  2018-01-26  09:56:06   slides/object_oriented_programming  1   8.0   \n",
       "4  2018-01-26  09:56:24            javascript-i/conditionals  2  22.0   \n",
       "\n",
       "              5  \n",
       "0  97.105.19.61  \n",
       "1  97.105.19.61  \n",
       "2  97.105.19.61  \n",
       "3  97.105.19.61  \n",
       "4  97.105.19.61  "
      ]
     },
     "execution_count": 179,
     "metadata": {},
     "output_type": "execute_result"
    }
   ],
   "source": [
    "df_orig = pd.read_csv('anonymized-curriculum-access.txt',          \n",
    "                      engine='python',\n",
    "                      header=None,\n",
    "                      index_col=False,\n",
    "                      sep=r'\\s(?=(?:[^\"]*\"[^\"]*\")*[^\"]*$)(?![^\\[]*\\])',\n",
    "                      na_values='\"-\"',\n",
    ")\n",
    "\n",
    "df_orig.head()"
   ]
  },
  {
   "cell_type": "markdown",
   "metadata": {},
   "source": [
    "**Takeaways**\n",
    "- Need to rename the columns: \n",
    "    1. Columns 0 and 1 are timestamp. I need to combine them together and set as index\n",
    "    2. column 2 is the request method\n",
    "    3. What are column 3 and 4? \n",
    "        - column 3: student id\n",
    "        - column 4: cohort id\n",
    "    4. column 5 are ip address. "
   ]
  },
  {
   "cell_type": "code",
   "execution_count": 180,
   "metadata": {},
   "outputs": [
    {
     "data": {
      "text/html": [
       "<div>\n",
       "<style scoped>\n",
       "    .dataframe tbody tr th:only-of-type {\n",
       "        vertical-align: middle;\n",
       "    }\n",
       "\n",
       "    .dataframe tbody tr th {\n",
       "        vertical-align: top;\n",
       "    }\n",
       "\n",
       "    .dataframe thead th {\n",
       "        text-align: right;\n",
       "    }\n",
       "</style>\n",
       "<table border=\"1\" class=\"dataframe\">\n",
       "  <thead>\n",
       "    <tr style=\"text-align: right;\">\n",
       "      <th></th>\n",
       "      <th>date</th>\n",
       "      <th>time</th>\n",
       "      <th>request_method</th>\n",
       "      <th>user_id</th>\n",
       "      <th>cohort_id</th>\n",
       "      <th>ip</th>\n",
       "    </tr>\n",
       "  </thead>\n",
       "  <tbody>\n",
       "    <tr>\n",
       "      <th>0</th>\n",
       "      <td>2018-01-26</td>\n",
       "      <td>09:55:03</td>\n",
       "      <td>/</td>\n",
       "      <td>1</td>\n",
       "      <td>8.0</td>\n",
       "      <td>97.105.19.61</td>\n",
       "    </tr>\n",
       "    <tr>\n",
       "      <th>1</th>\n",
       "      <td>2018-01-26</td>\n",
       "      <td>09:56:02</td>\n",
       "      <td>java-ii</td>\n",
       "      <td>1</td>\n",
       "      <td>8.0</td>\n",
       "      <td>97.105.19.61</td>\n",
       "    </tr>\n",
       "    <tr>\n",
       "      <th>2</th>\n",
       "      <td>2018-01-26</td>\n",
       "      <td>09:56:05</td>\n",
       "      <td>java-ii/object-oriented-programming</td>\n",
       "      <td>1</td>\n",
       "      <td>8.0</td>\n",
       "      <td>97.105.19.61</td>\n",
       "    </tr>\n",
       "    <tr>\n",
       "      <th>3</th>\n",
       "      <td>2018-01-26</td>\n",
       "      <td>09:56:06</td>\n",
       "      <td>slides/object_oriented_programming</td>\n",
       "      <td>1</td>\n",
       "      <td>8.0</td>\n",
       "      <td>97.105.19.61</td>\n",
       "    </tr>\n",
       "    <tr>\n",
       "      <th>4</th>\n",
       "      <td>2018-01-26</td>\n",
       "      <td>09:56:24</td>\n",
       "      <td>javascript-i/conditionals</td>\n",
       "      <td>2</td>\n",
       "      <td>22.0</td>\n",
       "      <td>97.105.19.61</td>\n",
       "    </tr>\n",
       "  </tbody>\n",
       "</table>\n",
       "</div>"
      ],
      "text/plain": [
       "         date      time                       request_method  user_id  \\\n",
       "0  2018-01-26  09:55:03                                    /        1   \n",
       "1  2018-01-26  09:56:02                              java-ii        1   \n",
       "2  2018-01-26  09:56:05  java-ii/object-oriented-programming        1   \n",
       "3  2018-01-26  09:56:06   slides/object_oriented_programming        1   \n",
       "4  2018-01-26  09:56:24            javascript-i/conditionals        2   \n",
       "\n",
       "   cohort_id            ip  \n",
       "0        8.0  97.105.19.61  \n",
       "1        8.0  97.105.19.61  \n",
       "2        8.0  97.105.19.61  \n",
       "3        8.0  97.105.19.61  \n",
       "4       22.0  97.105.19.61  "
      ]
     },
     "execution_count": 180,
     "metadata": {},
     "output_type": "execute_result"
    }
   ],
   "source": [
    "# Rename the columns\n",
    "\n",
    "df_orig.columns = ['date', 'time', 'request_method', 'user_id', 'cohort_id', 'ip']\n",
    "df_orig.head()"
   ]
  },
  {
   "cell_type": "code",
   "execution_count": 181,
   "metadata": {},
   "outputs": [
    {
     "data": {
      "text/html": [
       "<div>\n",
       "<style scoped>\n",
       "    .dataframe tbody tr th:only-of-type {\n",
       "        vertical-align: middle;\n",
       "    }\n",
       "\n",
       "    .dataframe tbody tr th {\n",
       "        vertical-align: top;\n",
       "    }\n",
       "\n",
       "    .dataframe thead th {\n",
       "        text-align: right;\n",
       "    }\n",
       "</style>\n",
       "<table border=\"1\" class=\"dataframe\">\n",
       "  <thead>\n",
       "    <tr style=\"text-align: right;\">\n",
       "      <th></th>\n",
       "      <th>date</th>\n",
       "      <th>time</th>\n",
       "      <th>request_method</th>\n",
       "      <th>user_id</th>\n",
       "      <th>cohort_id</th>\n",
       "      <th>ip</th>\n",
       "      <th>timestamp</th>\n",
       "    </tr>\n",
       "  </thead>\n",
       "  <tbody>\n",
       "    <tr>\n",
       "      <th>0</th>\n",
       "      <td>2018-01-26</td>\n",
       "      <td>09:55:03</td>\n",
       "      <td>/</td>\n",
       "      <td>1</td>\n",
       "      <td>8.0</td>\n",
       "      <td>97.105.19.61</td>\n",
       "      <td>2018-01-26 09:55:03</td>\n",
       "    </tr>\n",
       "    <tr>\n",
       "      <th>1</th>\n",
       "      <td>2018-01-26</td>\n",
       "      <td>09:56:02</td>\n",
       "      <td>java-ii</td>\n",
       "      <td>1</td>\n",
       "      <td>8.0</td>\n",
       "      <td>97.105.19.61</td>\n",
       "      <td>2018-01-26 09:56:02</td>\n",
       "    </tr>\n",
       "    <tr>\n",
       "      <th>2</th>\n",
       "      <td>2018-01-26</td>\n",
       "      <td>09:56:05</td>\n",
       "      <td>java-ii/object-oriented-programming</td>\n",
       "      <td>1</td>\n",
       "      <td>8.0</td>\n",
       "      <td>97.105.19.61</td>\n",
       "      <td>2018-01-26 09:56:05</td>\n",
       "    </tr>\n",
       "    <tr>\n",
       "      <th>3</th>\n",
       "      <td>2018-01-26</td>\n",
       "      <td>09:56:06</td>\n",
       "      <td>slides/object_oriented_programming</td>\n",
       "      <td>1</td>\n",
       "      <td>8.0</td>\n",
       "      <td>97.105.19.61</td>\n",
       "      <td>2018-01-26 09:56:06</td>\n",
       "    </tr>\n",
       "    <tr>\n",
       "      <th>4</th>\n",
       "      <td>2018-01-26</td>\n",
       "      <td>09:56:24</td>\n",
       "      <td>javascript-i/conditionals</td>\n",
       "      <td>2</td>\n",
       "      <td>22.0</td>\n",
       "      <td>97.105.19.61</td>\n",
       "      <td>2018-01-26 09:56:24</td>\n",
       "    </tr>\n",
       "  </tbody>\n",
       "</table>\n",
       "</div>"
      ],
      "text/plain": [
       "         date      time                       request_method  user_id  \\\n",
       "0  2018-01-26  09:55:03                                    /        1   \n",
       "1  2018-01-26  09:56:02                              java-ii        1   \n",
       "2  2018-01-26  09:56:05  java-ii/object-oriented-programming        1   \n",
       "3  2018-01-26  09:56:06   slides/object_oriented_programming        1   \n",
       "4  2018-01-26  09:56:24            javascript-i/conditionals        2   \n",
       "\n",
       "   cohort_id            ip            timestamp  \n",
       "0        8.0  97.105.19.61  2018-01-26 09:55:03  \n",
       "1        8.0  97.105.19.61  2018-01-26 09:56:02  \n",
       "2        8.0  97.105.19.61  2018-01-26 09:56:05  \n",
       "3        8.0  97.105.19.61  2018-01-26 09:56:06  \n",
       "4       22.0  97.105.19.61  2018-01-26 09:56:24  "
      ]
     },
     "execution_count": 181,
     "metadata": {},
     "output_type": "execute_result"
    }
   ],
   "source": [
    "# Create a new column timestampe\n",
    "\n",
    "df_orig['timestamp'] = df_orig.date.str.cat(df_orig.time, sep=' ')\n",
    "df_orig.head()"
   ]
  },
  {
   "cell_type": "code",
   "execution_count": 182,
   "metadata": {},
   "outputs": [
    {
     "name": "stdout",
     "output_type": "stream",
     "text": [
      "<class 'pandas.core.frame.DataFrame'>\n",
      "RangeIndex: 719459 entries, 0 to 719458\n",
      "Data columns (total 7 columns):\n",
      " #   Column          Non-Null Count   Dtype  \n",
      "---  ------          --------------   -----  \n",
      " 0   date            719459 non-null  object \n",
      " 1   time            719459 non-null  object \n",
      " 2   request_method  719458 non-null  object \n",
      " 3   user_id         719459 non-null  int64  \n",
      " 4   cohort_id       674619 non-null  float64\n",
      " 5   ip              719459 non-null  object \n",
      " 6   timestamp       719459 non-null  object \n",
      "dtypes: float64(1), int64(1), object(5)\n",
      "memory usage: 38.4+ MB\n"
     ]
    }
   ],
   "source": [
    "df_orig.info()"
   ]
  },
  {
   "cell_type": "code",
   "execution_count": 183,
   "metadata": {},
   "outputs": [
    {
     "data": {
      "text/html": [
       "<div>\n",
       "<style scoped>\n",
       "    .dataframe tbody tr th:only-of-type {\n",
       "        vertical-align: middle;\n",
       "    }\n",
       "\n",
       "    .dataframe tbody tr th {\n",
       "        vertical-align: top;\n",
       "    }\n",
       "\n",
       "    .dataframe thead th {\n",
       "        text-align: right;\n",
       "    }\n",
       "</style>\n",
       "<table border=\"1\" class=\"dataframe\">\n",
       "  <thead>\n",
       "    <tr style=\"text-align: right;\">\n",
       "      <th></th>\n",
       "      <th>date</th>\n",
       "      <th>time</th>\n",
       "      <th>request_method</th>\n",
       "      <th>user_id</th>\n",
       "      <th>cohort_id</th>\n",
       "      <th>ip</th>\n",
       "      <th>timestamp</th>\n",
       "    </tr>\n",
       "  </thead>\n",
       "  <tbody>\n",
       "    <tr>\n",
       "      <th>0</th>\n",
       "      <td>2018-01-26</td>\n",
       "      <td>09:55:03</td>\n",
       "      <td>/</td>\n",
       "      <td>1</td>\n",
       "      <td>8.0</td>\n",
       "      <td>97.105.19.61</td>\n",
       "      <td>2018-01-26 09:55:03</td>\n",
       "    </tr>\n",
       "    <tr>\n",
       "      <th>1</th>\n",
       "      <td>2018-01-26</td>\n",
       "      <td>09:56:02</td>\n",
       "      <td>java-ii</td>\n",
       "      <td>1</td>\n",
       "      <td>8.0</td>\n",
       "      <td>97.105.19.61</td>\n",
       "      <td>2018-01-26 09:56:02</td>\n",
       "    </tr>\n",
       "    <tr>\n",
       "      <th>2</th>\n",
       "      <td>2018-01-26</td>\n",
       "      <td>09:56:05</td>\n",
       "      <td>java-ii/object-oriented-programming</td>\n",
       "      <td>1</td>\n",
       "      <td>8.0</td>\n",
       "      <td>97.105.19.61</td>\n",
       "      <td>2018-01-26 09:56:05</td>\n",
       "    </tr>\n",
       "    <tr>\n",
       "      <th>3</th>\n",
       "      <td>2018-01-26</td>\n",
       "      <td>09:56:06</td>\n",
       "      <td>slides/object_oriented_programming</td>\n",
       "      <td>1</td>\n",
       "      <td>8.0</td>\n",
       "      <td>97.105.19.61</td>\n",
       "      <td>2018-01-26 09:56:06</td>\n",
       "    </tr>\n",
       "    <tr>\n",
       "      <th>4</th>\n",
       "      <td>2018-01-26</td>\n",
       "      <td>09:56:24</td>\n",
       "      <td>javascript-i/conditionals</td>\n",
       "      <td>2</td>\n",
       "      <td>22.0</td>\n",
       "      <td>97.105.19.61</td>\n",
       "      <td>2018-01-26 09:56:24</td>\n",
       "    </tr>\n",
       "  </tbody>\n",
       "</table>\n",
       "</div>"
      ],
      "text/plain": [
       "         date      time                       request_method  user_id  \\\n",
       "0  2018-01-26  09:55:03                                    /        1   \n",
       "1  2018-01-26  09:56:02                              java-ii        1   \n",
       "2  2018-01-26  09:56:05  java-ii/object-oriented-programming        1   \n",
       "3  2018-01-26  09:56:06   slides/object_oriented_programming        1   \n",
       "4  2018-01-26  09:56:24            javascript-i/conditionals        2   \n",
       "\n",
       "   cohort_id            ip           timestamp  \n",
       "0        8.0  97.105.19.61 2018-01-26 09:55:03  \n",
       "1        8.0  97.105.19.61 2018-01-26 09:56:02  \n",
       "2        8.0  97.105.19.61 2018-01-26 09:56:05  \n",
       "3        8.0  97.105.19.61 2018-01-26 09:56:06  \n",
       "4       22.0  97.105.19.61 2018-01-26 09:56:24  "
      ]
     },
     "execution_count": 183,
     "metadata": {},
     "output_type": "execute_result"
    }
   ],
   "source": [
    "# Convert to dtype of datetime\n",
    "\n",
    "df_orig.timestamp = pd.to_datetime(df_orig.timestamp)\n",
    "df_orig.head()"
   ]
  },
  {
   "cell_type": "code",
   "execution_count": 184,
   "metadata": {},
   "outputs": [
    {
     "name": "stdout",
     "output_type": "stream",
     "text": [
      "<class 'pandas.core.frame.DataFrame'>\n",
      "RangeIndex: 719459 entries, 0 to 719458\n",
      "Data columns (total 7 columns):\n",
      " #   Column          Non-Null Count   Dtype         \n",
      "---  ------          --------------   -----         \n",
      " 0   date            719459 non-null  object        \n",
      " 1   time            719459 non-null  object        \n",
      " 2   request_method  719458 non-null  object        \n",
      " 3   user_id         719459 non-null  int64         \n",
      " 4   cohort_id       674619 non-null  float64       \n",
      " 5   ip              719459 non-null  object        \n",
      " 6   timestamp       719459 non-null  datetime64[ns]\n",
      "dtypes: datetime64[ns](1), float64(1), int64(1), object(4)\n",
      "memory usage: 38.4+ MB\n"
     ]
    }
   ],
   "source": [
    "df_orig.info()"
   ]
  },
  {
   "cell_type": "code",
   "execution_count": 185,
   "metadata": {},
   "outputs": [
    {
     "data": {
      "text/html": [
       "<div>\n",
       "<style scoped>\n",
       "    .dataframe tbody tr th:only-of-type {\n",
       "        vertical-align: middle;\n",
       "    }\n",
       "\n",
       "    .dataframe tbody tr th {\n",
       "        vertical-align: top;\n",
       "    }\n",
       "\n",
       "    .dataframe thead th {\n",
       "        text-align: right;\n",
       "    }\n",
       "</style>\n",
       "<table border=\"1\" class=\"dataframe\">\n",
       "  <thead>\n",
       "    <tr style=\"text-align: right;\">\n",
       "      <th></th>\n",
       "      <th>date</th>\n",
       "      <th>time</th>\n",
       "      <th>request_method</th>\n",
       "      <th>user_id</th>\n",
       "      <th>cohort_id</th>\n",
       "      <th>ip</th>\n",
       "    </tr>\n",
       "    <tr>\n",
       "      <th>timestamp</th>\n",
       "      <th></th>\n",
       "      <th></th>\n",
       "      <th></th>\n",
       "      <th></th>\n",
       "      <th></th>\n",
       "      <th></th>\n",
       "    </tr>\n",
       "  </thead>\n",
       "  <tbody>\n",
       "    <tr>\n",
       "      <th>2018-01-26 09:55:03</th>\n",
       "      <td>2018-01-26</td>\n",
       "      <td>09:55:03</td>\n",
       "      <td>/</td>\n",
       "      <td>1</td>\n",
       "      <td>8.0</td>\n",
       "      <td>97.105.19.61</td>\n",
       "    </tr>\n",
       "    <tr>\n",
       "      <th>2018-01-26 09:56:02</th>\n",
       "      <td>2018-01-26</td>\n",
       "      <td>09:56:02</td>\n",
       "      <td>java-ii</td>\n",
       "      <td>1</td>\n",
       "      <td>8.0</td>\n",
       "      <td>97.105.19.61</td>\n",
       "    </tr>\n",
       "    <tr>\n",
       "      <th>2018-01-26 09:56:05</th>\n",
       "      <td>2018-01-26</td>\n",
       "      <td>09:56:05</td>\n",
       "      <td>java-ii/object-oriented-programming</td>\n",
       "      <td>1</td>\n",
       "      <td>8.0</td>\n",
       "      <td>97.105.19.61</td>\n",
       "    </tr>\n",
       "    <tr>\n",
       "      <th>2018-01-26 09:56:06</th>\n",
       "      <td>2018-01-26</td>\n",
       "      <td>09:56:06</td>\n",
       "      <td>slides/object_oriented_programming</td>\n",
       "      <td>1</td>\n",
       "      <td>8.0</td>\n",
       "      <td>97.105.19.61</td>\n",
       "    </tr>\n",
       "    <tr>\n",
       "      <th>2018-01-26 09:56:24</th>\n",
       "      <td>2018-01-26</td>\n",
       "      <td>09:56:24</td>\n",
       "      <td>javascript-i/conditionals</td>\n",
       "      <td>2</td>\n",
       "      <td>22.0</td>\n",
       "      <td>97.105.19.61</td>\n",
       "    </tr>\n",
       "  </tbody>\n",
       "</table>\n",
       "</div>"
      ],
      "text/plain": [
       "                           date      time  \\\n",
       "timestamp                                   \n",
       "2018-01-26 09:55:03  2018-01-26  09:55:03   \n",
       "2018-01-26 09:56:02  2018-01-26  09:56:02   \n",
       "2018-01-26 09:56:05  2018-01-26  09:56:05   \n",
       "2018-01-26 09:56:06  2018-01-26  09:56:06   \n",
       "2018-01-26 09:56:24  2018-01-26  09:56:24   \n",
       "\n",
       "                                          request_method  user_id  cohort_id  \\\n",
       "timestamp                                                                      \n",
       "2018-01-26 09:55:03                                    /        1        8.0   \n",
       "2018-01-26 09:56:02                              java-ii        1        8.0   \n",
       "2018-01-26 09:56:05  java-ii/object-oriented-programming        1        8.0   \n",
       "2018-01-26 09:56:06   slides/object_oriented_programming        1        8.0   \n",
       "2018-01-26 09:56:24            javascript-i/conditionals        2       22.0   \n",
       "\n",
       "                               ip  \n",
       "timestamp                          \n",
       "2018-01-26 09:55:03  97.105.19.61  \n",
       "2018-01-26 09:56:02  97.105.19.61  \n",
       "2018-01-26 09:56:05  97.105.19.61  \n",
       "2018-01-26 09:56:06  97.105.19.61  \n",
       "2018-01-26 09:56:24  97.105.19.61  "
      ]
     },
     "execution_count": 185,
     "metadata": {},
     "output_type": "execute_result"
    }
   ],
   "source": [
    "# Set the data as the index\n",
    "\n",
    "df = df_orig.set_index('timestamp').sort_index()\n",
    "df.head()"
   ]
  },
  {
   "cell_type": "code",
   "execution_count": 186,
   "metadata": {},
   "outputs": [
    {
     "data": {
      "text/html": [
       "<div>\n",
       "<style scoped>\n",
       "    .dataframe tbody tr th:only-of-type {\n",
       "        vertical-align: middle;\n",
       "    }\n",
       "\n",
       "    .dataframe tbody tr th {\n",
       "        vertical-align: top;\n",
       "    }\n",
       "\n",
       "    .dataframe thead th {\n",
       "        text-align: right;\n",
       "    }\n",
       "</style>\n",
       "<table border=\"1\" class=\"dataframe\">\n",
       "  <thead>\n",
       "    <tr style=\"text-align: right;\">\n",
       "      <th></th>\n",
       "      <th>request_method</th>\n",
       "      <th>user_id</th>\n",
       "      <th>cohort_id</th>\n",
       "      <th>ip</th>\n",
       "    </tr>\n",
       "    <tr>\n",
       "      <th>timestamp</th>\n",
       "      <th></th>\n",
       "      <th></th>\n",
       "      <th></th>\n",
       "      <th></th>\n",
       "    </tr>\n",
       "  </thead>\n",
       "  <tbody>\n",
       "    <tr>\n",
       "      <th>2018-01-26 09:55:03</th>\n",
       "      <td>/</td>\n",
       "      <td>1</td>\n",
       "      <td>8.0</td>\n",
       "      <td>97.105.19.61</td>\n",
       "    </tr>\n",
       "    <tr>\n",
       "      <th>2018-01-26 09:56:02</th>\n",
       "      <td>java-ii</td>\n",
       "      <td>1</td>\n",
       "      <td>8.0</td>\n",
       "      <td>97.105.19.61</td>\n",
       "    </tr>\n",
       "    <tr>\n",
       "      <th>2018-01-26 09:56:05</th>\n",
       "      <td>java-ii/object-oriented-programming</td>\n",
       "      <td>1</td>\n",
       "      <td>8.0</td>\n",
       "      <td>97.105.19.61</td>\n",
       "    </tr>\n",
       "    <tr>\n",
       "      <th>2018-01-26 09:56:06</th>\n",
       "      <td>slides/object_oriented_programming</td>\n",
       "      <td>1</td>\n",
       "      <td>8.0</td>\n",
       "      <td>97.105.19.61</td>\n",
       "    </tr>\n",
       "    <tr>\n",
       "      <th>2018-01-26 09:56:24</th>\n",
       "      <td>javascript-i/conditionals</td>\n",
       "      <td>2</td>\n",
       "      <td>22.0</td>\n",
       "      <td>97.105.19.61</td>\n",
       "    </tr>\n",
       "  </tbody>\n",
       "</table>\n",
       "</div>"
      ],
      "text/plain": [
       "                                          request_method  user_id  cohort_id  \\\n",
       "timestamp                                                                      \n",
       "2018-01-26 09:55:03                                    /        1        8.0   \n",
       "2018-01-26 09:56:02                              java-ii        1        8.0   \n",
       "2018-01-26 09:56:05  java-ii/object-oriented-programming        1        8.0   \n",
       "2018-01-26 09:56:06   slides/object_oriented_programming        1        8.0   \n",
       "2018-01-26 09:56:24            javascript-i/conditionals        2       22.0   \n",
       "\n",
       "                               ip  \n",
       "timestamp                          \n",
       "2018-01-26 09:55:03  97.105.19.61  \n",
       "2018-01-26 09:56:02  97.105.19.61  \n",
       "2018-01-26 09:56:05  97.105.19.61  \n",
       "2018-01-26 09:56:06  97.105.19.61  \n",
       "2018-01-26 09:56:24  97.105.19.61  "
      ]
     },
     "execution_count": 186,
     "metadata": {},
     "output_type": "execute_result"
    }
   ],
   "source": [
    "# Drop columns date and time\n",
    "\n",
    "df.drop(columns=['date', 'time'], inplace=True)\n",
    "df.head()"
   ]
  },
  {
   "cell_type": "markdown",
   "metadata": {},
   "source": [
    "#### Any missing values? "
   ]
  },
  {
   "cell_type": "code",
   "execution_count": 187,
   "metadata": {},
   "outputs": [
    {
     "data": {
      "text/plain": [
       "request_method        1\n",
       "user_id               0\n",
       "cohort_id         44840\n",
       "ip                    0\n",
       "dtype: int64"
      ]
     },
     "execution_count": 187,
     "metadata": {},
     "output_type": "execute_result"
    }
   ],
   "source": [
    "df.isnull().sum(axis=0) # There are 44840 missing values in cohort_id"
   ]
  },
  {
   "cell_type": "markdown",
   "metadata": {},
   "source": [
    "### Summarize the data"
   ]
  },
  {
   "cell_type": "code",
   "execution_count": 188,
   "metadata": {},
   "outputs": [
    {
     "name": "stdout",
     "output_type": "stream",
     "text": [
      "<class 'pandas.core.frame.DataFrame'>\n",
      "DatetimeIndex: 719459 entries, 2018-01-26 09:55:03 to 2020-11-02 16:48:47\n",
      "Data columns (total 4 columns):\n",
      " #   Column          Non-Null Count   Dtype  \n",
      "---  ------          --------------   -----  \n",
      " 0   request_method  719458 non-null  object \n",
      " 1   user_id         719459 non-null  int64  \n",
      " 2   cohort_id       674619 non-null  float64\n",
      " 3   ip              719459 non-null  object \n",
      "dtypes: float64(1), int64(1), object(2)\n",
      "memory usage: 27.4+ MB\n"
     ]
    }
   ],
   "source": [
    "df.info()"
   ]
  },
  {
   "cell_type": "code",
   "execution_count": 189,
   "metadata": {},
   "outputs": [
    {
     "data": {
      "text/plain": [
       "787"
      ]
     },
     "execution_count": 189,
     "metadata": {},
     "output_type": "execute_result"
    }
   ],
   "source": [
    "# How many unique values in column student id?\n",
    "df['user_id'].nunique() # There are 787 unique values, for now it is labeled as student_id"
   ]
  },
  {
   "cell_type": "code",
   "execution_count": 190,
   "metadata": {},
   "outputs": [
    {
     "data": {
      "text/plain": [
       "11     14870\n",
       "64     14444\n",
       "53     10874\n",
       "1       6440\n",
       "314     6419\n",
       "Name: user_id, dtype: int64"
      ]
     },
     "execution_count": 190,
     "metadata": {},
     "output_type": "execute_result"
    }
   ],
   "source": [
    "# Which student id has the highest number of accessing?\n",
    "df['user_id'].value_counts(dropna=False).head() # Are 11, 64 and 53 are the instructors?"
   ]
  },
  {
   "cell_type": "code",
   "execution_count": 191,
   "metadata": {},
   "outputs": [
    {
     "data": {
      "text/plain": [
       "<matplotlib.axes._subplots.AxesSubplot at 0x7fe109411b10>"
      ]
     },
     "execution_count": 191,
     "metadata": {},
     "output_type": "execute_result"
    },
    {
     "data": {
      "image/png": "[encoded data removed]",
      "text/plain": [
       "<Figure size 936x504 with 1 Axes>"
      ]
     },
     "metadata": {},
     "output_type": "display_data"
    }
   ],
   "source": [
    "# Viz the distribution of the accessing numbers\n",
    "df['user_id'].value_counts(dropna=False).hist()"
   ]
  },
  {
   "cell_type": "code",
   "execution_count": 192,
   "metadata": {},
   "outputs": [
    {
     "data": {
      "text/html": [
       "<div>\n",
       "<style scoped>\n",
       "    .dataframe tbody tr th:only-of-type {\n",
       "        vertical-align: middle;\n",
       "    }\n",
       "\n",
       "    .dataframe tbody tr th {\n",
       "        vertical-align: top;\n",
       "    }\n",
       "\n",
       "    .dataframe thead th {\n",
       "        text-align: right;\n",
       "    }\n",
       "</style>\n",
       "<table border=\"1\" class=\"dataframe\">\n",
       "  <thead>\n",
       "    <tr style=\"text-align: right;\">\n",
       "      <th></th>\n",
       "      <th>request_method</th>\n",
       "      <th>user_id</th>\n",
       "      <th>cohort_id</th>\n",
       "      <th>ip</th>\n",
       "    </tr>\n",
       "    <tr>\n",
       "      <th>timestamp</th>\n",
       "      <th></th>\n",
       "      <th></th>\n",
       "      <th></th>\n",
       "      <th></th>\n",
       "    </tr>\n",
       "  </thead>\n",
       "  <tbody>\n",
       "    <tr>\n",
       "      <th>2018-01-26 10:14:47</th>\n",
       "      <td>/</td>\n",
       "      <td>11</td>\n",
       "      <td>1.0</td>\n",
       "      <td>97.105.19.61</td>\n",
       "    </tr>\n",
       "    <tr>\n",
       "      <th>2018-01-26 10:14:51</th>\n",
       "      <td>javascript-i</td>\n",
       "      <td>11</td>\n",
       "      <td>1.0</td>\n",
       "      <td>97.105.19.61</td>\n",
       "    </tr>\n",
       "    <tr>\n",
       "      <th>2018-01-26 10:15:02</th>\n",
       "      <td>javascript-i/functions</td>\n",
       "      <td>11</td>\n",
       "      <td>1.0</td>\n",
       "      <td>97.105.19.61</td>\n",
       "    </tr>\n",
       "    <tr>\n",
       "      <th>2018-01-26 11:46:29</th>\n",
       "      <td>appendix/further-reading/javascript/hoisting.html</td>\n",
       "      <td>11</td>\n",
       "      <td>1.0</td>\n",
       "      <td>97.105.19.61</td>\n",
       "    </tr>\n",
       "    <tr>\n",
       "      <th>2018-01-26 11:46:39</th>\n",
       "      <td>appendix</td>\n",
       "      <td>11</td>\n",
       "      <td>1.0</td>\n",
       "      <td>97.105.19.61</td>\n",
       "    </tr>\n",
       "    <tr>\n",
       "      <th>...</th>\n",
       "      <td>...</td>\n",
       "      <td>...</td>\n",
       "      <td>...</td>\n",
       "      <td>...</td>\n",
       "    </tr>\n",
       "    <tr>\n",
       "      <th>2020-11-02 16:22:12</th>\n",
       "      <td>nlp/explore</td>\n",
       "      <td>11</td>\n",
       "      <td>28.0</td>\n",
       "      <td>76.185.145.231</td>\n",
       "    </tr>\n",
       "    <tr>\n",
       "      <th>2020-11-02 16:42:02</th>\n",
       "      <td>anomaly-detection/overview</td>\n",
       "      <td>11</td>\n",
       "      <td>28.0</td>\n",
       "      <td>76.185.145.231</td>\n",
       "    </tr>\n",
       "    <tr>\n",
       "      <th>2020-11-02 16:42:02</th>\n",
       "      <td>anomaly-detection/AnomalyDetectionCartoon.jpeg</td>\n",
       "      <td>11</td>\n",
       "      <td>28.0</td>\n",
       "      <td>76.185.145.231</td>\n",
       "    </tr>\n",
       "    <tr>\n",
       "      <th>2020-11-02 16:42:04</th>\n",
       "      <td>anomaly-detection/detecting-with-clustering</td>\n",
       "      <td>11</td>\n",
       "      <td>28.0</td>\n",
       "      <td>76.185.145.231</td>\n",
       "    </tr>\n",
       "    <tr>\n",
       "      <th>2020-11-02 16:42:06</th>\n",
       "      <td>anomaly-detection/detecting-timeseries-anomalies</td>\n",
       "      <td>11</td>\n",
       "      <td>28.0</td>\n",
       "      <td>76.185.145.231</td>\n",
       "    </tr>\n",
       "  </tbody>\n",
       "</table>\n",
       "<p>14870 rows × 4 columns</p>\n",
       "</div>"
      ],
      "text/plain": [
       "                                                        request_method  \\\n",
       "timestamp                                                                \n",
       "2018-01-26 10:14:47                                                  /   \n",
       "2018-01-26 10:14:51                                       javascript-i   \n",
       "2018-01-26 10:15:02                             javascript-i/functions   \n",
       "2018-01-26 11:46:29  appendix/further-reading/javascript/hoisting.html   \n",
       "2018-01-26 11:46:39                                           appendix   \n",
       "...                                                                ...   \n",
       "2020-11-02 16:22:12                                        nlp/explore   \n",
       "2020-11-02 16:42:02                         anomaly-detection/overview   \n",
       "2020-11-02 16:42:02     anomaly-detection/AnomalyDetectionCartoon.jpeg   \n",
       "2020-11-02 16:42:04        anomaly-detection/detecting-with-clustering   \n",
       "2020-11-02 16:42:06   anomaly-detection/detecting-timeseries-anomalies   \n",
       "\n",
       "                     user_id  cohort_id              ip  \n",
       "timestamp                                                \n",
       "2018-01-26 10:14:47       11        1.0    97.105.19.61  \n",
       "2018-01-26 10:14:51       11        1.0    97.105.19.61  \n",
       "2018-01-26 10:15:02       11        1.0    97.105.19.61  \n",
       "2018-01-26 11:46:29       11        1.0    97.105.19.61  \n",
       "2018-01-26 11:46:39       11        1.0    97.105.19.61  \n",
       "...                      ...        ...             ...  \n",
       "2020-11-02 16:22:12       11       28.0  76.185.145.231  \n",
       "2020-11-02 16:42:02       11       28.0  76.185.145.231  \n",
       "2020-11-02 16:42:02       11       28.0  76.185.145.231  \n",
       "2020-11-02 16:42:04       11       28.0  76.185.145.231  \n",
       "2020-11-02 16:42:06       11       28.0  76.185.145.231  \n",
       "\n",
       "[14870 rows x 4 columns]"
      ]
     },
     "execution_count": 192,
     "metadata": {},
     "output_type": "execute_result"
    }
   ],
   "source": [
    "# Take a look at the student id 11\n",
    "df[df.user_id == 11]"
   ]
  },
  {
   "cell_type": "code",
   "execution_count": 193,
   "metadata": {},
   "outputs": [
    {
     "data": {
      "text/html": [
       "<div>\n",
       "<style scoped>\n",
       "    .dataframe tbody tr th:only-of-type {\n",
       "        vertical-align: middle;\n",
       "    }\n",
       "\n",
       "    .dataframe tbody tr th {\n",
       "        vertical-align: top;\n",
       "    }\n",
       "\n",
       "    .dataframe thead th {\n",
       "        text-align: right;\n",
       "    }\n",
       "</style>\n",
       "<table border=\"1\" class=\"dataframe\">\n",
       "  <thead>\n",
       "    <tr style=\"text-align: right;\">\n",
       "      <th></th>\n",
       "      <th>request_method</th>\n",
       "      <th>user_id</th>\n",
       "      <th>cohort_id</th>\n",
       "      <th>ip</th>\n",
       "    </tr>\n",
       "    <tr>\n",
       "      <th>timestamp</th>\n",
       "      <th></th>\n",
       "      <th></th>\n",
       "      <th></th>\n",
       "      <th></th>\n",
       "    </tr>\n",
       "  </thead>\n",
       "  <tbody>\n",
       "    <tr>\n",
       "      <th>2018-01-29 13:50:57</th>\n",
       "      <td>/</td>\n",
       "      <td>64</td>\n",
       "      <td>1.0</td>\n",
       "      <td>97.105.19.61</td>\n",
       "    </tr>\n",
       "    <tr>\n",
       "      <th>2018-01-29 13:51:00</th>\n",
       "      <td>mkdocs/search_index.json</td>\n",
       "      <td>64</td>\n",
       "      <td>1.0</td>\n",
       "      <td>97.105.19.61</td>\n",
       "    </tr>\n",
       "    <tr>\n",
       "      <th>2018-01-29 13:51:04</th>\n",
       "      <td>mysql/users</td>\n",
       "      <td>64</td>\n",
       "      <td>1.0</td>\n",
       "      <td>97.105.19.61</td>\n",
       "    </tr>\n",
       "    <tr>\n",
       "      <th>2018-01-30 10:13:09</th>\n",
       "      <td>/</td>\n",
       "      <td>64</td>\n",
       "      <td>1.0</td>\n",
       "      <td>97.105.19.61</td>\n",
       "    </tr>\n",
       "    <tr>\n",
       "      <th>2018-01-30 10:13:12</th>\n",
       "      <td>spring</td>\n",
       "      <td>64</td>\n",
       "      <td>1.0</td>\n",
       "      <td>97.105.19.61</td>\n",
       "    </tr>\n",
       "    <tr>\n",
       "      <th>...</th>\n",
       "      <td>...</td>\n",
       "      <td>...</td>\n",
       "      <td>...</td>\n",
       "      <td>...</td>\n",
       "    </tr>\n",
       "    <tr>\n",
       "      <th>2020-10-29 16:59:30</th>\n",
       "      <td>mysql/group-by</td>\n",
       "      <td>64</td>\n",
       "      <td>28.0</td>\n",
       "      <td>76.25.25.4</td>\n",
       "    </tr>\n",
       "    <tr>\n",
       "      <th>2020-10-29 16:59:38</th>\n",
       "      <td>mysql/aliases</td>\n",
       "      <td>64</td>\n",
       "      <td>28.0</td>\n",
       "      <td>76.25.25.4</td>\n",
       "    </tr>\n",
       "    <tr>\n",
       "      <th>2020-10-29 16:59:58</th>\n",
       "      <td>mysql/group-by</td>\n",
       "      <td>64</td>\n",
       "      <td>28.0</td>\n",
       "      <td>76.25.25.4</td>\n",
       "    </tr>\n",
       "    <tr>\n",
       "      <th>2020-10-29 16:59:59</th>\n",
       "      <td>mysql/functions</td>\n",
       "      <td>64</td>\n",
       "      <td>28.0</td>\n",
       "      <td>76.25.25.4</td>\n",
       "    </tr>\n",
       "    <tr>\n",
       "      <th>2020-10-29 17:00:03</th>\n",
       "      <td>mysql/group-by</td>\n",
       "      <td>64</td>\n",
       "      <td>28.0</td>\n",
       "      <td>76.25.25.4</td>\n",
       "    </tr>\n",
       "  </tbody>\n",
       "</table>\n",
       "<p>14444 rows × 4 columns</p>\n",
       "</div>"
      ],
      "text/plain": [
       "                               request_method  user_id  cohort_id  \\\n",
       "timestamp                                                           \n",
       "2018-01-29 13:50:57                         /       64        1.0   \n",
       "2018-01-29 13:51:00  mkdocs/search_index.json       64        1.0   \n",
       "2018-01-29 13:51:04               mysql/users       64        1.0   \n",
       "2018-01-30 10:13:09                         /       64        1.0   \n",
       "2018-01-30 10:13:12                    spring       64        1.0   \n",
       "...                                       ...      ...        ...   \n",
       "2020-10-29 16:59:30            mysql/group-by       64       28.0   \n",
       "2020-10-29 16:59:38             mysql/aliases       64       28.0   \n",
       "2020-10-29 16:59:58            mysql/group-by       64       28.0   \n",
       "2020-10-29 16:59:59           mysql/functions       64       28.0   \n",
       "2020-10-29 17:00:03            mysql/group-by       64       28.0   \n",
       "\n",
       "                               ip  \n",
       "timestamp                          \n",
       "2018-01-29 13:50:57  97.105.19.61  \n",
       "2018-01-29 13:51:00  97.105.19.61  \n",
       "2018-01-29 13:51:04  97.105.19.61  \n",
       "2018-01-30 10:13:09  97.105.19.61  \n",
       "2018-01-30 10:13:12  97.105.19.61  \n",
       "...                           ...  \n",
       "2020-10-29 16:59:30    76.25.25.4  \n",
       "2020-10-29 16:59:38    76.25.25.4  \n",
       "2020-10-29 16:59:58    76.25.25.4  \n",
       "2020-10-29 16:59:59    76.25.25.4  \n",
       "2020-10-29 17:00:03    76.25.25.4  \n",
       "\n",
       "[14444 rows x 4 columns]"
      ]
     },
     "execution_count": 193,
     "metadata": {},
     "output_type": "execute_result"
    }
   ],
   "source": [
    "# Take a look at the student id \n",
    "df[df.user_id == 64]"
   ]
  },
  {
   "cell_type": "code",
   "execution_count": 194,
   "metadata": {},
   "outputs": [
    {
     "data": {
      "text/html": [
       "<div>\n",
       "<style scoped>\n",
       "    .dataframe tbody tr th:only-of-type {\n",
       "        vertical-align: middle;\n",
       "    }\n",
       "\n",
       "    .dataframe tbody tr th {\n",
       "        vertical-align: top;\n",
       "    }\n",
       "\n",
       "    .dataframe thead th {\n",
       "        text-align: right;\n",
       "    }\n",
       "</style>\n",
       "<table border=\"1\" class=\"dataframe\">\n",
       "  <thead>\n",
       "    <tr style=\"text-align: right;\">\n",
       "      <th></th>\n",
       "      <th>request_method</th>\n",
       "      <th>user_id</th>\n",
       "      <th>cohort_id</th>\n",
       "      <th>ip</th>\n",
       "    </tr>\n",
       "    <tr>\n",
       "      <th>timestamp</th>\n",
       "      <th></th>\n",
       "      <th></th>\n",
       "      <th></th>\n",
       "      <th></th>\n",
       "    </tr>\n",
       "  </thead>\n",
       "  <tbody>\n",
       "    <tr>\n",
       "      <th>2018-01-28 18:48:19</th>\n",
       "      <td>index.html</td>\n",
       "      <td>53</td>\n",
       "      <td>14.0</td>\n",
       "      <td>67.10.161.55</td>\n",
       "    </tr>\n",
       "    <tr>\n",
       "      <th>2018-01-28 18:48:24</th>\n",
       "      <td>html-css</td>\n",
       "      <td>53</td>\n",
       "      <td>14.0</td>\n",
       "      <td>67.10.161.55</td>\n",
       "    </tr>\n",
       "    <tr>\n",
       "      <th>2018-01-28 18:49:20</th>\n",
       "      <td>javascript-i</td>\n",
       "      <td>53</td>\n",
       "      <td>14.0</td>\n",
       "      <td>67.10.161.55</td>\n",
       "    </tr>\n",
       "    <tr>\n",
       "      <th>2018-01-28 18:49:23</th>\n",
       "      <td>javascript-i/conditionals</td>\n",
       "      <td>53</td>\n",
       "      <td>14.0</td>\n",
       "      <td>67.10.161.55</td>\n",
       "    </tr>\n",
       "    <tr>\n",
       "      <th>2018-01-28 18:50:41</th>\n",
       "      <td>javascript-i/conditionals</td>\n",
       "      <td>53</td>\n",
       "      <td>14.0</td>\n",
       "      <td>67.10.161.55</td>\n",
       "    </tr>\n",
       "    <tr>\n",
       "      <th>...</th>\n",
       "      <td>...</td>\n",
       "      <td>...</td>\n",
       "      <td>...</td>\n",
       "      <td>...</td>\n",
       "    </tr>\n",
       "    <tr>\n",
       "      <th>2020-11-02 09:09:53</th>\n",
       "      <td>examples/javascript/dom-query-js.html</td>\n",
       "      <td>53</td>\n",
       "      <td>28.0</td>\n",
       "      <td>67.10.174.56</td>\n",
       "    </tr>\n",
       "    <tr>\n",
       "      <th>2020-11-02 15:27:42</th>\n",
       "      <td>appendix/slides</td>\n",
       "      <td>53</td>\n",
       "      <td>28.0</td>\n",
       "      <td>67.10.174.56</td>\n",
       "    </tr>\n",
       "    <tr>\n",
       "      <th>2020-11-02 16:09:40</th>\n",
       "      <td>index.html</td>\n",
       "      <td>53</td>\n",
       "      <td>28.0</td>\n",
       "      <td>67.10.174.56</td>\n",
       "    </tr>\n",
       "    <tr>\n",
       "      <th>2020-11-02 16:09:42</th>\n",
       "      <td>javascript-i</td>\n",
       "      <td>53</td>\n",
       "      <td>28.0</td>\n",
       "      <td>67.10.174.56</td>\n",
       "    </tr>\n",
       "    <tr>\n",
       "      <th>2020-11-02 16:09:45</th>\n",
       "      <td>javascript-i/bom-and-dom/dom</td>\n",
       "      <td>53</td>\n",
       "      <td>28.0</td>\n",
       "      <td>67.10.174.56</td>\n",
       "    </tr>\n",
       "  </tbody>\n",
       "</table>\n",
       "<p>10874 rows × 4 columns</p>\n",
       "</div>"
      ],
      "text/plain": [
       "                                            request_method  user_id  \\\n",
       "timestamp                                                             \n",
       "2018-01-28 18:48:19                             index.html       53   \n",
       "2018-01-28 18:48:24                               html-css       53   \n",
       "2018-01-28 18:49:20                           javascript-i       53   \n",
       "2018-01-28 18:49:23              javascript-i/conditionals       53   \n",
       "2018-01-28 18:50:41              javascript-i/conditionals       53   \n",
       "...                                                    ...      ...   \n",
       "2020-11-02 09:09:53  examples/javascript/dom-query-js.html       53   \n",
       "2020-11-02 15:27:42                        appendix/slides       53   \n",
       "2020-11-02 16:09:40                             index.html       53   \n",
       "2020-11-02 16:09:42                           javascript-i       53   \n",
       "2020-11-02 16:09:45           javascript-i/bom-and-dom/dom       53   \n",
       "\n",
       "                     cohort_id            ip  \n",
       "timestamp                                     \n",
       "2018-01-28 18:48:19       14.0  67.10.161.55  \n",
       "2018-01-28 18:48:24       14.0  67.10.161.55  \n",
       "2018-01-28 18:49:20       14.0  67.10.161.55  \n",
       "2018-01-28 18:49:23       14.0  67.10.161.55  \n",
       "2018-01-28 18:50:41       14.0  67.10.161.55  \n",
       "...                        ...           ...  \n",
       "2020-11-02 09:09:53       28.0  67.10.174.56  \n",
       "2020-11-02 15:27:42       28.0  67.10.174.56  \n",
       "2020-11-02 16:09:40       28.0  67.10.174.56  \n",
       "2020-11-02 16:09:42       28.0  67.10.174.56  \n",
       "2020-11-02 16:09:45       28.0  67.10.174.56  \n",
       "\n",
       "[10874 rows x 4 columns]"
      ]
     },
     "execution_count": 194,
     "metadata": {},
     "output_type": "execute_result"
    }
   ],
   "source": [
    "# Take a look at the student id \n",
    "df[df.user_id == 53]"
   ]
  },
  {
   "cell_type": "code",
   "execution_count": 195,
   "metadata": {},
   "outputs": [
    {
     "data": {
      "text/plain": [
       "40"
      ]
     },
     "execution_count": 195,
     "metadata": {},
     "output_type": "execute_result"
    }
   ],
   "source": [
    "# How many unique values in column 4?\n",
    "df.cohort_id.nunique() # 40 unique values in cohort id"
   ]
  },
  {
   "cell_type": "code",
   "execution_count": 196,
   "metadata": {},
   "outputs": [
    {
     "data": {
      "text/plain": [
       "28.0    60315\n",
       "NaN     44840\n",
       "33.0    40168\n",
       "29.0    37548\n",
       "53.0    36047\n",
       "Name: cohort_id, dtype: int64"
      ]
     },
     "execution_count": 196,
     "metadata": {},
     "output_type": "execute_result"
    }
   ],
   "source": [
    "# Which cohort id has the highest counts of accessing?\n",
    "\n",
    "df['cohort_id'].value_counts(dropna=False).head(5)"
   ]
  },
  {
   "cell_type": "code",
   "execution_count": 197,
   "metadata": {},
   "outputs": [
    {
     "data": {
      "text/plain": [
       "<matplotlib.axes._subplots.AxesSubplot at 0x7fe1093b5510>"
      ]
     },
     "execution_count": 197,
     "metadata": {},
     "output_type": "execute_result"
    },
    {
     "data": {
      "image/png": "[encoded data removed]",
      "text/plain": [
       "<Figure size 936x504 with 1 Axes>"
      ]
     },
     "metadata": {},
     "output_type": "display_data"
    }
   ],
   "source": [
    "# Viz the distribution of the counts of accessing by counts\n",
    "\n",
    "df['cohort_id'].value_counts(dropna=False).hist(bins=20)"
   ]
  },
  {
   "cell_type": "markdown",
   "metadata": {},
   "source": [
    "### Focus on cohort where my ip belongs to: cohort 59"
   ]
  },
  {
   "cell_type": "code",
   "execution_count": 198,
   "metadata": {},
   "outputs": [
    {
     "data": {
      "text/html": [
       "<div>\n",
       "<style scoped>\n",
       "    .dataframe tbody tr th:only-of-type {\n",
       "        vertical-align: middle;\n",
       "    }\n",
       "\n",
       "    .dataframe tbody tr th {\n",
       "        vertical-align: top;\n",
       "    }\n",
       "\n",
       "    .dataframe thead th {\n",
       "        text-align: right;\n",
       "    }\n",
       "</style>\n",
       "<table border=\"1\" class=\"dataframe\">\n",
       "  <thead>\n",
       "    <tr style=\"text-align: right;\">\n",
       "      <th></th>\n",
       "      <th>request_method</th>\n",
       "      <th>user_id</th>\n",
       "      <th>cohort_id</th>\n",
       "      <th>ip</th>\n",
       "    </tr>\n",
       "    <tr>\n",
       "      <th>timestamp</th>\n",
       "      <th></th>\n",
       "      <th></th>\n",
       "      <th></th>\n",
       "      <th></th>\n",
       "    </tr>\n",
       "  </thead>\n",
       "  <tbody>\n",
       "    <tr>\n",
       "      <th>2020-07-13 14:34:44</th>\n",
       "      <td>/</td>\n",
       "      <td>678</td>\n",
       "      <td>59.0</td>\n",
       "      <td>76.201.20.193</td>\n",
       "    </tr>\n",
       "    <tr>\n",
       "      <th>2020-07-13 14:37:22</th>\n",
       "      <td>/</td>\n",
       "      <td>679</td>\n",
       "      <td>59.0</td>\n",
       "      <td>24.28.146.155</td>\n",
       "    </tr>\n",
       "    <tr>\n",
       "      <th>2020-07-13 14:38:28</th>\n",
       "      <td>/</td>\n",
       "      <td>680</td>\n",
       "      <td>59.0</td>\n",
       "      <td>136.50.56.155</td>\n",
       "    </tr>\n",
       "    <tr>\n",
       "      <th>2020-07-13 14:39:21</th>\n",
       "      <td>13-advanced-topics/1-tidy-data</td>\n",
       "      <td>679</td>\n",
       "      <td>59.0</td>\n",
       "      <td>24.28.146.155</td>\n",
       "    </tr>\n",
       "    <tr>\n",
       "      <th>2020-07-13 14:39:36</th>\n",
       "      <td>1-fundamentals/1.1-intro-to-data-science</td>\n",
       "      <td>679</td>\n",
       "      <td>59.0</td>\n",
       "      <td>24.28.146.155</td>\n",
       "    </tr>\n",
       "  </tbody>\n",
       "</table>\n",
       "</div>"
      ],
      "text/plain": [
       "                                               request_method  user_id  \\\n",
       "timestamp                                                                \n",
       "2020-07-13 14:34:44                                         /      678   \n",
       "2020-07-13 14:37:22                                         /      679   \n",
       "2020-07-13 14:38:28                                         /      680   \n",
       "2020-07-13 14:39:21            13-advanced-topics/1-tidy-data      679   \n",
       "2020-07-13 14:39:36  1-fundamentals/1.1-intro-to-data-science      679   \n",
       "\n",
       "                     cohort_id             ip  \n",
       "timestamp                                      \n",
       "2020-07-13 14:34:44       59.0  76.201.20.193  \n",
       "2020-07-13 14:37:22       59.0  24.28.146.155  \n",
       "2020-07-13 14:38:28       59.0  136.50.56.155  \n",
       "2020-07-13 14:39:21       59.0  24.28.146.155  \n",
       "2020-07-13 14:39:36       59.0  24.28.146.155  "
      ]
     },
     "execution_count": 198,
     "metadata": {},
     "output_type": "execute_result"
    }
   ],
   "source": [
    "# Create the dataframe for cohort 59\n",
    "\n",
    "df_59 = df[(df.cohort_id == 59)]\n",
    "df_59.head()"
   ]
  },
  {
   "cell_type": "code",
   "execution_count": 199,
   "metadata": {},
   "outputs": [
    {
     "name": "stdout",
     "output_type": "stream",
     "text": [
      "Date Range: 2020-07-13 14:34:44 to 2020-11-02 15:52:23\n"
     ]
    }
   ],
   "source": [
    "# Print the data range\n",
    "print('Date Range:', df_59.index.min(), 'to', df_59.index.max())"
   ]
  },
  {
   "cell_type": "code",
   "execution_count": 200,
   "metadata": {},
   "outputs": [
    {
     "data": {
      "text/plain": [
       "request_method    0\n",
       "user_id           0\n",
       "cohort_id         0\n",
       "ip                0\n",
       "dtype: int64"
      ]
     },
     "execution_count": 200,
     "metadata": {},
     "output_type": "execute_result"
    }
   ],
   "source": [
    "# Any missing values?\n",
    "df_59.isna().sum() # No missing values"
   ]
  },
  {
   "cell_type": "markdown",
   "metadata": {},
   "source": [
    "### Compute entropy of each columns"
   ]
  },
  {
   "cell_type": "code",
   "execution_count": 201,
   "metadata": {},
   "outputs": [],
   "source": [
    "def compute_entropy(series):\n",
    "    counts = series.value_counts()\n",
    "    if len(counts)==1:\n",
    "        ent = 0\n",
    "    else:\n",
    "        value, counts = np.unique(series, return_counts=True)\n",
    "        ent = entropy(counts, base=None)\n",
    "    return ent"
   ]
  },
  {
   "cell_type": "code",
   "execution_count": 202,
   "metadata": {},
   "outputs": [
    {
     "data": {
      "text/plain": [
       "0"
      ]
     },
     "execution_count": 202,
     "metadata": {},
     "output_type": "execute_result"
    }
   ],
   "source": [
    "# Compute entropy of cohort id\n",
    "compute_entropy(df_59.cohort_id) # is 0 since there is only one unique value in this column. "
   ]
  },
  {
   "cell_type": "code",
   "execution_count": 203,
   "metadata": {},
   "outputs": [
    {
     "data": {
      "text/plain": [
       "4.770190297987762"
      ]
     },
     "execution_count": 203,
     "metadata": {},
     "output_type": "execute_result"
    }
   ],
   "source": [
    "# Compute entropy of request page\n",
    "compute_entropy(df_59.request_method)"
   ]
  },
  {
   "cell_type": "code",
   "execution_count": 204,
   "metadata": {},
   "outputs": [
    {
     "data": {
      "text/plain": [
       "3.0193491002050257"
      ]
     },
     "execution_count": 204,
     "metadata": {},
     "output_type": "execute_result"
    }
   ],
   "source": [
    "# Compute entropy of user_id\n",
    "compute_entropy(df_59.user_id)"
   ]
  },
  {
   "cell_type": "code",
   "execution_count": 205,
   "metadata": {},
   "outputs": [
    {
     "data": {
      "text/plain": [
       "3.4316749297604687"
      ]
     },
     "execution_count": 205,
     "metadata": {},
     "output_type": "execute_result"
    }
   ],
   "source": [
    "# Compute entropy of ip\n",
    "compute_entropy(df_59.ip)"
   ]
  },
  {
   "cell_type": "markdown",
   "metadata": {},
   "source": [
    "### Target Varible: Hits per hour in cohort 59\n",
    "- Should be the same no matter which col is used, except corhort id"
   ]
  },
  {
   "cell_type": "code",
   "execution_count": 206,
   "metadata": {},
   "outputs": [
    {
     "data": {
      "text/plain": [
       "timestamp\n",
       "2020-07-13 14:00:00    95\n",
       "2020-07-13 15:00:00    36\n",
       "2020-07-13 16:00:00     0\n",
       "2020-07-13 17:00:00     3\n",
       "2020-07-13 18:00:00     3\n",
       "                       ..\n",
       "2020-11-02 11:00:00     5\n",
       "2020-11-02 12:00:00    11\n",
       "2020-11-02 13:00:00    14\n",
       "2020-11-02 14:00:00    10\n",
       "2020-11-02 15:00:00    32\n",
       "Freq: H, Name: user_id, Length: 2690, dtype: int64"
      ]
     },
     "execution_count": 206,
     "metadata": {},
     "output_type": "execute_result"
    }
   ],
   "source": [
    "# Resample by hours and count the hits.\n",
    "df_59.resample('H').user_id.size()"
   ]
  },
  {
   "cell_type": "code",
   "execution_count": 207,
   "metadata": {},
   "outputs": [
    {
     "data": {
      "text/plain": [
       "timestamp\n",
       "2020-07-13 14:00:00    95\n",
       "2020-07-13 15:00:00    36\n",
       "2020-07-13 16:00:00     0\n",
       "2020-07-13 17:00:00     3\n",
       "2020-07-13 18:00:00     3\n",
       "                       ..\n",
       "2020-11-02 11:00:00     5\n",
       "2020-11-02 12:00:00    11\n",
       "2020-11-02 13:00:00    14\n",
       "2020-11-02 14:00:00    10\n",
       "2020-11-02 15:00:00    32\n",
       "Freq: H, Name: request_method, Length: 2690, dtype: int64"
      ]
     },
     "execution_count": 207,
     "metadata": {},
     "output_type": "execute_result"
    }
   ],
   "source": [
    "df_59.resample('H').request_method.size()"
   ]
  },
  {
   "cell_type": "code",
   "execution_count": 208,
   "metadata": {},
   "outputs": [
    {
     "data": {
      "text/plain": [
       "timestamp\n",
       "2020-07-13 14:00:00    95\n",
       "2020-07-13 15:00:00    36\n",
       "2020-07-13 16:00:00     0\n",
       "2020-07-13 17:00:00     3\n",
       "2020-07-13 18:00:00     3\n",
       "                       ..\n",
       "2020-11-02 11:00:00     5\n",
       "2020-11-02 12:00:00    11\n",
       "2020-11-02 13:00:00    14\n",
       "2020-11-02 14:00:00    10\n",
       "2020-11-02 15:00:00    32\n",
       "Freq: H, Name: ip, Length: 2690, dtype: int64"
      ]
     },
     "execution_count": 208,
     "metadata": {},
     "output_type": "execute_result"
    }
   ],
   "source": [
    "df_59.resample('H').ip.size()"
   ]
  },
  {
   "cell_type": "code",
   "execution_count": 209,
   "metadata": {},
   "outputs": [
    {
     "data": {
      "text/plain": [
       "Timedelta('112 days 01:17:39')"
      ]
     },
     "execution_count": 209,
     "metadata": {},
     "output_type": "execute_result"
    }
   ],
   "source": [
    "# Quick sanity check on days_between\n",
    "days_between = df_59.index.max() - df_59.index.min()\n",
    "days_between"
   ]
  },
  {
   "cell_type": "code",
   "execution_count": 210,
   "metadata": {},
   "outputs": [
    {
     "data": {
      "text/plain": [
       "112.08333333333333"
      ]
     },
     "execution_count": 210,
     "metadata": {},
     "output_type": "execute_result"
    }
   ],
   "source": [
    "# Quick sanity check on days_between\n",
    "days_between = 2690/24\n",
    "days_between"
   ]
  },
  {
   "cell_type": "code",
   "execution_count": 211,
   "metadata": {},
   "outputs": [
    {
     "name": "stdout",
     "output_type": "stream",
     "text": [
      "(2690,)\n"
     ]
    },
    {
     "data": {
      "text/plain": [
       "timestamp\n",
       "2020-07-13 14:00:00    95\n",
       "2020-07-13 15:00:00    36\n",
       "2020-07-13 16:00:00     0\n",
       "2020-07-13 17:00:00     3\n",
       "2020-07-13 18:00:00     3\n",
       "Freq: H, Name: user_id, dtype: int64"
      ]
     },
     "execution_count": 211,
     "metadata": {},
     "output_type": "execute_result"
    }
   ],
   "source": [
    "# Store target in a dataframe\n",
    "\n",
    "df_59_hits = df_59.resample('H').user_id.size()\n",
    "print(df_59_hits.shape)\n",
    "df_59_hits.head()"
   ]
  },
  {
   "cell_type": "markdown",
   "metadata": {},
   "source": [
    "### Split into Train/Test"
   ]
  },
  {
   "cell_type": "code",
   "execution_count": 212,
   "metadata": {},
   "outputs": [
    {
     "data": {
      "image/png": "[encoded data removed]",
      "text/plain": [
       "<Figure size 936x504 with 1 Axes>"
      ]
     },
     "metadata": {},
     "output_type": "display_data"
    }
   ],
   "source": [
    "start_date_train = df_59_hits.head(1).index[0]\n",
    "end_date_train = '2020-09-30 13:00:00'\n",
    "start_date_test = '2020-09-30 14:00:00'\n",
    "\n",
    "train = df_59_hits[:end_date_train]\n",
    "test = df_59_hits[start_date_test:]\n",
    "\n",
    "plt.plot(train)\n",
    "plt.plot(test)\n",
    "plt.show()"
   ]
  },
  {
   "cell_type": "code",
   "execution_count": 213,
   "metadata": {},
   "outputs": [
    {
     "data": {
      "text/plain": [
       "timestamp\n",
       "2020-09-30 09:00:00    15\n",
       "2020-09-30 10:00:00    34\n",
       "2020-09-30 11:00:00     3\n",
       "2020-09-30 12:00:00    11\n",
       "2020-09-30 13:00:00     0\n",
       "Freq: H, Name: user_id, dtype: int64"
      ]
     },
     "execution_count": 213,
     "metadata": {},
     "output_type": "execute_result"
    }
   ],
   "source": [
    "train.tail()"
   ]
  },
  {
   "cell_type": "code",
   "execution_count": 214,
   "metadata": {},
   "outputs": [
    {
     "data": {
      "text/plain": [
       "timestamp\n",
       "2020-09-30 14:00:00    0\n",
       "2020-09-30 15:00:00    3\n",
       "2020-09-30 16:00:00    6\n",
       "2020-09-30 17:00:00    0\n",
       "2020-09-30 18:00:00    1\n",
       "Freq: H, Name: user_id, dtype: int64"
      ]
     },
     "execution_count": 214,
     "metadata": {},
     "output_type": "execute_result"
    }
   ],
   "source": [
    "test.head()"
   ]
  },
  {
   "cell_type": "code",
   "execution_count": 215,
   "metadata": {},
   "outputs": [
    {
     "data": {
      "text/plain": [
       "timestamp\n",
       "2020-11-02 11:00:00     5\n",
       "2020-11-02 12:00:00    11\n",
       "2020-11-02 13:00:00    14\n",
       "2020-11-02 14:00:00    10\n",
       "2020-11-02 15:00:00    32\n",
       "Freq: H, Name: user_id, dtype: int64"
      ]
     },
     "execution_count": 215,
     "metadata": {},
     "output_type": "execute_result"
    }
   ],
   "source": [
    "test.tail()"
   ]
  },
  {
   "cell_type": "code",
   "execution_count": 216,
   "metadata": {},
   "outputs": [
    {
     "name": "stdout",
     "output_type": "stream",
     "text": [
      "(1896,)\n"
     ]
    },
    {
     "data": {
      "text/plain": [
       "timestamp\n",
       "2020-07-13 14:00:00    95\n",
       "2020-07-13 15:00:00    36\n",
       "2020-07-13 16:00:00     0\n",
       "2020-07-13 17:00:00     3\n",
       "2020-07-13 18:00:00     3\n",
       "Freq: H, Name: user_id, dtype: int64"
      ]
     },
     "execution_count": 216,
     "metadata": {},
     "output_type": "execute_result"
    }
   ],
   "source": [
    "# Store target in a variable named y for ease of access\n",
    "\n",
    "y = train\n",
    "print(y.shape)\n",
    "y.head()"
   ]
  },
  {
   "cell_type": "code",
   "execution_count": 217,
   "metadata": {},
   "outputs": [
    {
     "data": {
      "text/plain": [
       "<matplotlib.axes._subplots.AxesSubplot at 0x7fe1092def10>"
      ]
     },
     "execution_count": 217,
     "metadata": {},
     "output_type": "execute_result"
    },
    {
     "data": {
      "image/png": "[encoded data removed]",
      "text/plain": [
       "<Figure size 936x504 with 1 Axes>"
      ]
     },
     "metadata": {},
     "output_type": "display_data"
    }
   ],
   "source": [
    "# Viz our target variable over time\n",
    "\n",
    "y.plot()"
   ]
  },
  {
   "cell_type": "code",
   "execution_count": 218,
   "metadata": {},
   "outputs": [
    {
     "data": {
      "text/plain": [
       "<matplotlib.legend.Legend at 0x7fe1091d8810>"
      ]
     },
     "execution_count": 218,
     "metadata": {},
     "output_type": "execute_result"
    },
    {
     "data": {
      "image/png": "[encoded data removed]",
      "text/plain": [
       "<Figure size 936x504 with 1 Axes>"
      ]
     },
     "metadata": {},
     "output_type": "display_data"
    }
   ],
   "source": [
    "y.resample('D').mean().plot(alpha=.5, label='Daily')\n",
    "y.resample('W').mean().plot(alpha=.8, label='Weekly')\n",
    "plt.legend()"
   ]
  },
  {
   "cell_type": "markdown",
   "metadata": {},
   "source": [
    "### Autocorrealtion Plot - time unit: Day and Week\n",
    "- No seaonablity was found"
   ]
  },
  {
   "cell_type": "code",
   "execution_count": 219,
   "metadata": {},
   "outputs": [
    {
     "data": {
      "text/plain": [
       "<matplotlib.legend.Legend at 0x7fe1090c1d90>"
      ]
     },
     "execution_count": 219,
     "metadata": {},
     "output_type": "execute_result"
    },
    {
     "data": {
      "image/png": "[encoded data removed]",
      "text/plain": [
       "<Figure size 936x504 with 2 Axes>"
      ]
     },
     "metadata": {},
     "output_type": "display_data"
    }
   ],
   "source": [
    "fig, (ax1, ax2) = plt.subplots(1, 2)\n",
    "\n",
    "pd.plotting.autocorrelation_plot(train.resample('D').mean(), ax=ax1, label='Time Unit: Day')\n",
    "pd.plotting.autocorrelation_plot(train.resample('W').mean(), ax=ax2, label='Time Unit: Week')\n",
    "plt.legend()"
   ]
  },
  {
   "cell_type": "markdown",
   "metadata": {},
   "source": [
    "### Simple Moving Average"
   ]
  },
  {
   "cell_type": "code",
   "execution_count": 220,
   "metadata": {},
   "outputs": [],
   "source": [
    "# Calculating the short-window simple moving average\n",
    "short_rolling = train.rolling(window=12).mean()\n",
    "\n",
    "# Calculating the long-window simple moving average\n",
    "long_rolling = train.rolling(window=24).mean()"
   ]
  },
  {
   "cell_type": "code",
   "execution_count": 221,
   "metadata": {},
   "outputs": [
    {
     "data": {
      "text/plain": [
       "timestamp\n",
       "2020-07-13 14:00:00          NaN\n",
       "2020-07-13 15:00:00          NaN\n",
       "2020-07-13 16:00:00          NaN\n",
       "2020-07-13 17:00:00          NaN\n",
       "2020-07-13 18:00:00          NaN\n",
       "2020-07-13 19:00:00          NaN\n",
       "2020-07-13 20:00:00          NaN\n",
       "2020-07-13 21:00:00          NaN\n",
       "2020-07-13 22:00:00          NaN\n",
       "2020-07-13 23:00:00          NaN\n",
       "2020-07-14 00:00:00          NaN\n",
       "2020-07-14 01:00:00    14.250000\n",
       "2020-07-14 02:00:00     6.333333\n",
       "Freq: H, Name: user_id, dtype: float64"
      ]
     },
     "execution_count": 221,
     "metadata": {},
     "output_type": "execute_result"
    }
   ],
   "source": [
    "short_rolling.head(13)"
   ]
  },
  {
   "cell_type": "code",
   "execution_count": 222,
   "metadata": {},
   "outputs": [
    {
     "data": {
      "text/plain": [
       "timestamp\n",
       "2020-07-14 10:00:00          NaN\n",
       "2020-07-14 11:00:00          NaN\n",
       "2020-07-14 12:00:00          NaN\n",
       "2020-07-14 13:00:00    16.916667\n",
       "2020-07-14 14:00:00    13.875000\n",
       "2020-07-14 15:00:00    12.916667\n",
       "2020-07-14 16:00:00    18.416667\n",
       "2020-07-14 17:00:00    19.708333\n",
       "2020-07-14 18:00:00    19.583333\n",
       "2020-07-14 19:00:00    19.375000\n",
       "Freq: H, Name: user_id, dtype: float64"
      ]
     },
     "execution_count": 222,
     "metadata": {},
     "output_type": "execute_result"
    }
   ],
   "source": [
    "long_rolling[20:30]"
   ]
  },
  {
   "cell_type": "code",
   "execution_count": 223,
   "metadata": {},
   "outputs": [
    {
     "data": {
      "text/plain": [
       "Text(0, 0.5, 'hits')"
      ]
     },
     "execution_count": 223,
     "metadata": {},
     "output_type": "execute_result"
    },
    {
     "data": {
      "image/png": "[encoded data removed]",
      "text/plain": [
       "<Figure size 936x504 with 1 Axes>"
      ]
     },
     "metadata": {},
     "output_type": "display_data"
    }
   ],
   "source": [
    "fig, ax = plt.subplots()\n",
    "\n",
    "ax.plot(train.index, \n",
    "        train,\n",
    "        label='hits')\n",
    "\n",
    "ax.plot(short_rolling.index, \n",
    "        short_rolling, \n",
    "        label = '6-Hour SMA')\n",
    "ax.plot(long_rolling.index, \n",
    "        long_rolling, \n",
    "        label = '12-Hour SMA')\n",
    "\n",
    "ax.legend(loc='best')\n",
    "ax.set_ylabel('hits')\n",
    "# ax.xaxis.(rotate=90)\n",
    "# ax.xaxis.set_major_formatter(my_datetime_fmt)"
   ]
  },
  {
   "cell_type": "markdown",
   "metadata": {},
   "source": [
    "### Expotential Moving Average"
   ]
  },
  {
   "cell_type": "code",
   "execution_count": 224,
   "metadata": {},
   "outputs": [
    {
     "data": {
      "text/plain": [
       "timestamp\n",
       "2020-09-30 09:00:00    5.256390\n",
       "2020-09-30 10:00:00    9.678484\n",
       "2020-09-30 11:00:00    8.651025\n",
       "2020-09-30 12:00:00    9.012406\n",
       "2020-09-30 13:00:00    7.625882\n",
       "Freq: H, Name: user_id, dtype: float64"
      ]
     },
     "execution_count": 224,
     "metadata": {},
     "output_type": "execute_result"
    }
   ],
   "source": [
    "# Using Pandas to calculate a 2 hour span EMA. \n",
    "# adjust=False specifies that we are interested in the \n",
    "# recursive calculation mode.\n",
    "ema_short = train.ewm(span=12, adjust=False).mean()\n",
    "ema_short.tail()"
   ]
  },
  {
   "cell_type": "code",
   "execution_count": 225,
   "metadata": {},
   "outputs": [
    {
     "data": {
      "text/plain": [
       "timestamp\n",
       "2020-09-30 09:00:00    5.357620\n",
       "2020-09-30 10:00:00    7.649011\n",
       "2020-09-30 11:00:00    7.277090\n",
       "2020-09-30 12:00:00    7.574922\n",
       "2020-09-30 13:00:00    6.968929\n",
       "Freq: H, Name: user_id, dtype: float64"
      ]
     },
     "execution_count": 225,
     "metadata": {},
     "output_type": "execute_result"
    }
   ],
   "source": [
    "span = 24\n",
    "ema_long = train.ewm(span=span, adjust=False).mean()\n",
    "ema_long.tail()"
   ]
  },
  {
   "cell_type": "code",
   "execution_count": 226,
   "metadata": {},
   "outputs": [
    {
     "data": {
      "text/plain": [
       "Text(0, 0.5, 'hits')"
      ]
     },
     "execution_count": 226,
     "metadata": {},
     "output_type": "execute_result"
    },
    {
     "data": {
      "image/png": "[encoded data removed]",
      "text/plain": [
       "<Figure size 936x504 with 1 Axes>"
      ]
     },
     "metadata": {},
     "output_type": "display_data"
    }
   ],
   "source": [
    "fig, ax = plt.subplots()\n",
    "\n",
    "ax.plot(train.index, \n",
    "        train,\n",
    "        label='hits')\n",
    "\n",
    "ax.plot(short_rolling.index, \n",
    "        short_rolling, \n",
    "        label = '6-Hour SMA')\n",
    "ax.plot(long_rolling.index, \n",
    "        ema_short, \n",
    "        label = 'Span 6-Hour EMA')\n",
    "ax.plot(long_rolling.index, \n",
    "        long_rolling, \n",
    "        label = '12-Hour SMA')\n",
    "ax.plot(long_rolling.index, \n",
    "        ema_long, \n",
    "        label = 'Span 12-Hour EMA')\n",
    "\n",
    "ax.legend(loc='best')\n",
    "ax.set_ylabel('hits')"
   ]
  },
  {
   "cell_type": "markdown",
   "metadata": {},
   "source": [
    "## Bollinger Bands %B\n",
    "### Bollinger Bands\n",
    "- a volatility indicator and commonly used in stock market trading.\n",
    "- Made up of 3 lines, the Upper Band (UB), the Lower Band (LB) and the Midband.\n",
    "### Midband\n",
    "- The Exponential Moving Average\n",
    "- midband = train.ewm(span=30).mean()\n",
    "### Upper & Lower Band\n",
    "- UB/LB = Midband +/- stdev * K\n",
    "- stdev = train.ewm(span=30).std()\n",
    "- K = the number of standard deviations to go up and down from the EMA\n",
    "### %b, Percent Bandwidth\n",
    "- Shows where the last value sits in relation to the bands\n",
    "- $\\%b = \\frac{last-LB}{UB-LB}$\n",
    "- %b > 1 => point lies above UB\n",
    "- %b < 0 => point lies below LB\n",
    "- %b == .5 => point lies on the midband.\n",
    "### Bandwidth\n",
    "- The width of the bands\n",
    "- $Bandwidth = \\frac{(UB-LB)}{Midband}$"
   ]
  },
  {
   "cell_type": "code",
   "execution_count": 227,
   "metadata": {},
   "outputs": [
    {
     "data": {
      "text/plain": [
       "timestamp\n",
       "2020-07-13 14:00:00    95.000000\n",
       "2020-07-13 15:00:00    90.280000\n",
       "2020-07-13 16:00:00    83.057600\n",
       "2020-07-13 17:00:00    76.652992\n",
       "2020-07-13 18:00:00    70.760753\n",
       "                         ...    \n",
       "2020-09-30 09:00:00     5.357620\n",
       "2020-09-30 10:00:00     7.649011\n",
       "2020-09-30 11:00:00     7.277090\n",
       "2020-09-30 12:00:00     7.574922\n",
       "2020-09-30 13:00:00     6.968929\n",
       "Freq: H, Name: user_id, Length: 1896, dtype: float64"
      ]
     },
     "execution_count": 227,
     "metadata": {},
     "output_type": "execute_result"
    }
   ],
   "source": [
    "# Set the window span\n",
    "span = 24\n",
    "\n",
    "# compute midband\n",
    "midband = train.ewm(span=span, adjust=False).mean()\n",
    "midband"
   ]
  },
  {
   "cell_type": "code",
   "execution_count": 228,
   "metadata": {},
   "outputs": [
    {
     "data": {
      "text/plain": [
       "timestamp\n",
       "2020-07-13 14:00:00          NaN\n",
       "2020-07-13 15:00:00    41.719300\n",
       "2020-07-13 16:00:00    47.617694\n",
       "2020-07-13 17:00:00    42.890845\n",
       "2020-07-13 18:00:00    38.583669\n",
       "                         ...    \n",
       "2020-09-30 09:00:00     8.907779\n",
       "2020-09-30 10:00:00    11.662173\n",
       "2020-09-30 11:00:00    11.259915\n",
       "2020-09-30 12:00:00    10.849299\n",
       "2020-09-30 13:00:00    10.615905\n",
       "Freq: H, Name: user_id, Length: 1896, dtype: float64"
      ]
     },
     "execution_count": 228,
     "metadata": {},
     "output_type": "execute_result"
    }
   ],
   "source": [
    "# compute exponential stdev\n",
    "stdev = train.ewm(span=span).std()\n",
    "stdev"
   ]
  },
  {
   "cell_type": "code",
   "execution_count": 229,
   "metadata": {},
   "outputs": [
    {
     "data": {
      "text/plain": [
       "timestamp\n",
       "2020-07-13 14:00:00           NaN\n",
       "2020-07-13 15:00:00    215.437900\n",
       "2020-07-13 16:00:00    225.910681\n",
       "2020-07-13 17:00:00    205.325528\n",
       "2020-07-13 18:00:00    186.511759\n",
       "                          ...    \n",
       "2020-09-30 09:00:00     32.080958\n",
       "2020-09-30 10:00:00     42.635531\n",
       "2020-09-30 11:00:00     41.056835\n",
       "2020-09-30 12:00:00     40.122819\n",
       "2020-09-30 13:00:00     38.816644\n",
       "Freq: H, Name: user_id, Length: 1896, dtype: float64"
      ]
     },
     "execution_count": 229,
     "metadata": {},
     "output_type": "execute_result"
    }
   ],
   "source": [
    "# compute upper and lower bands\n",
    "ub = midband + stdev*3\n",
    "lb = midband - stdev*3\n",
    "\n",
    "ub"
   ]
  },
  {
   "cell_type": "code",
   "execution_count": 230,
   "metadata": {},
   "outputs": [
    {
     "data": {
      "text/plain": [
       "Text(0, 0.5, 'hits')"
      ]
     },
     "execution_count": 230,
     "metadata": {},
     "output_type": "execute_result"
    },
    {
     "data": {
      "image/png": "[encoded data removed]",
      "text/plain": [
       "<Figure size 936x504 with 1 Axes>"
      ]
     },
     "metadata": {},
     "output_type": "display_data"
    }
   ],
   "source": [
    "fig, ax = plt.subplots()\n",
    "\n",
    "ax.plot(train.index, \n",
    "        train,\n",
    "        label='hits')\n",
    "\n",
    "ax.plot(train.index, \n",
    "        midband, \n",
    "        label = '24-day EMA/midband')\n",
    "ax.plot(train.index, \n",
    "        ub, \n",
    "        label = 'Upper Band')\n",
    "ax.plot(train.index, \n",
    "        lb, \n",
    "        label = 'Lower Band')\n",
    "\n",
    "ax.legend(loc='best')\n",
    "ax.set_ylabel('hits')"
   ]
  },
  {
   "cell_type": "markdown",
   "metadata": {},
   "source": [
    "### Where do you think we will have a %b > 1?\n",
    "- Compute %b\n",
    "- $\\%b = \\frac{last-LB}{UB-LB}$"
   ]
  },
  {
   "cell_type": "code",
   "execution_count": 231,
   "metadata": {},
   "outputs": [
    {
     "data": {
      "text/html": [
       "<div>\n",
       "<style scoped>\n",
       "    .dataframe tbody tr th:only-of-type {\n",
       "        vertical-align: middle;\n",
       "    }\n",
       "\n",
       "    .dataframe tbody tr th {\n",
       "        vertical-align: top;\n",
       "    }\n",
       "\n",
       "    .dataframe thead th {\n",
       "        text-align: right;\n",
       "    }\n",
       "</style>\n",
       "<table border=\"1\" class=\"dataframe\">\n",
       "  <thead>\n",
       "    <tr style=\"text-align: right;\">\n",
       "      <th></th>\n",
       "      <th>hits</th>\n",
       "      <th>midband</th>\n",
       "      <th>ub</th>\n",
       "      <th>lb</th>\n",
       "    </tr>\n",
       "    <tr>\n",
       "      <th>timestamp</th>\n",
       "      <th></th>\n",
       "      <th></th>\n",
       "      <th></th>\n",
       "      <th></th>\n",
       "    </tr>\n",
       "  </thead>\n",
       "  <tbody>\n",
       "    <tr>\n",
       "      <th>2020-09-30 09:00:00</th>\n",
       "      <td>15</td>\n",
       "      <td>5.357620</td>\n",
       "      <td>32.080958</td>\n",
       "      <td>-21.365718</td>\n",
       "    </tr>\n",
       "    <tr>\n",
       "      <th>2020-09-30 10:00:00</th>\n",
       "      <td>34</td>\n",
       "      <td>7.649011</td>\n",
       "      <td>42.635531</td>\n",
       "      <td>-27.337510</td>\n",
       "    </tr>\n",
       "    <tr>\n",
       "      <th>2020-09-30 11:00:00</th>\n",
       "      <td>3</td>\n",
       "      <td>7.277090</td>\n",
       "      <td>41.056835</td>\n",
       "      <td>-26.502655</td>\n",
       "    </tr>\n",
       "    <tr>\n",
       "      <th>2020-09-30 12:00:00</th>\n",
       "      <td>11</td>\n",
       "      <td>7.574922</td>\n",
       "      <td>40.122819</td>\n",
       "      <td>-24.972974</td>\n",
       "    </tr>\n",
       "    <tr>\n",
       "      <th>2020-09-30 13:00:00</th>\n",
       "      <td>0</td>\n",
       "      <td>6.968929</td>\n",
       "      <td>38.816644</td>\n",
       "      <td>-24.878787</td>\n",
       "    </tr>\n",
       "  </tbody>\n",
       "</table>\n",
       "</div>"
      ],
      "text/plain": [
       "                     hits   midband         ub         lb\n",
       "timestamp                                                \n",
       "2020-09-30 09:00:00    15  5.357620  32.080958 -21.365718\n",
       "2020-09-30 10:00:00    34  7.649011  42.635531 -27.337510\n",
       "2020-09-30 11:00:00     3  7.277090  41.056835 -26.502655\n",
       "2020-09-30 12:00:00    11  7.574922  40.122819 -24.972974\n",
       "2020-09-30 13:00:00     0  6.968929  38.816644 -24.878787"
      ]
     },
     "execution_count": 231,
     "metadata": {},
     "output_type": "execute_result"
    }
   ],
   "source": [
    "train = pd.concat([train, midband, ub, lb], axis=1)\n",
    "train.columns = ['hits', 'midband', 'ub', 'lb']\n",
    "train.tail()"
   ]
  },
  {
   "cell_type": "code",
   "execution_count": 233,
   "metadata": {},
   "outputs": [],
   "source": [
    "train['pct_b'] = (train['hits'] - train['lb'])/(train['ub'] - train['lb'])"
   ]
  },
  {
   "cell_type": "code",
   "execution_count": 234,
   "metadata": {},
   "outputs": [
    {
     "data": {
      "text/html": [
       "<div>\n",
       "<style scoped>\n",
       "    .dataframe tbody tr th:only-of-type {\n",
       "        vertical-align: middle;\n",
       "    }\n",
       "\n",
       "    .dataframe tbody tr th {\n",
       "        vertical-align: top;\n",
       "    }\n",
       "\n",
       "    .dataframe thead th {\n",
       "        text-align: right;\n",
       "    }\n",
       "</style>\n",
       "<table border=\"1\" class=\"dataframe\">\n",
       "  <thead>\n",
       "    <tr style=\"text-align: right;\">\n",
       "      <th></th>\n",
       "      <th>hits</th>\n",
       "      <th>midband</th>\n",
       "      <th>ub</th>\n",
       "      <th>lb</th>\n",
       "      <th>pct_b</th>\n",
       "    </tr>\n",
       "    <tr>\n",
       "      <th>timestamp</th>\n",
       "      <th></th>\n",
       "      <th></th>\n",
       "      <th></th>\n",
       "      <th></th>\n",
       "      <th></th>\n",
       "    </tr>\n",
       "  </thead>\n",
       "  <tbody>\n",
       "    <tr>\n",
       "      <th>2020-07-16 09:00:00</th>\n",
       "      <td>627</td>\n",
       "      <td>66.439590</td>\n",
       "      <td>577.815006</td>\n",
       "      <td>-444.935827</td>\n",
       "      <td>1.048091</td>\n",
       "    </tr>\n",
       "    <tr>\n",
       "      <th>2020-07-20 11:00:00</th>\n",
       "      <td>111</td>\n",
       "      <td>15.851212</td>\n",
       "      <td>110.598679</td>\n",
       "      <td>-78.896256</td>\n",
       "      <td>1.002118</td>\n",
       "    </tr>\n",
       "    <tr>\n",
       "      <th>2020-08-11 10:00:00</th>\n",
       "      <td>87</td>\n",
       "      <td>11.926708</td>\n",
       "      <td>83.401089</td>\n",
       "      <td>-59.547673</td>\n",
       "      <td>1.025176</td>\n",
       "    </tr>\n",
       "    <tr>\n",
       "      <th>2020-08-24 11:00:00</th>\n",
       "      <td>115</td>\n",
       "      <td>18.310511</td>\n",
       "      <td>112.044224</td>\n",
       "      <td>-75.423203</td>\n",
       "      <td>1.015767</td>\n",
       "    </tr>\n",
       "    <tr>\n",
       "      <th>2020-09-08 09:00:00</th>\n",
       "      <td>79</td>\n",
       "      <td>12.384795</td>\n",
       "      <td>75.819877</td>\n",
       "      <td>-51.050287</td>\n",
       "      <td>1.025066</td>\n",
       "    </tr>\n",
       "    <tr>\n",
       "      <th>2020-09-14 08:00:00</th>\n",
       "      <td>32</td>\n",
       "      <td>5.216640</td>\n",
       "      <td>31.948481</td>\n",
       "      <td>-21.515200</td>\n",
       "      <td>1.000964</td>\n",
       "    </tr>\n",
       "    <tr>\n",
       "      <th>2020-09-21 10:00:00</th>\n",
       "      <td>311</td>\n",
       "      <td>39.240564</td>\n",
       "      <td>293.654278</td>\n",
       "      <td>-215.173150</td>\n",
       "      <td>1.034090</td>\n",
       "    </tr>\n",
       "    <tr>\n",
       "      <th>2020-09-24 10:00:00</th>\n",
       "      <td>106</td>\n",
       "      <td>15.501522</td>\n",
       "      <td>104.016686</td>\n",
       "      <td>-73.013642</td>\n",
       "      <td>1.011203</td>\n",
       "    </tr>\n",
       "    <tr>\n",
       "      <th>2020-09-28 11:00:00</th>\n",
       "      <td>79</td>\n",
       "      <td>10.778169</td>\n",
       "      <td>76.253119</td>\n",
       "      <td>-54.696780</td>\n",
       "      <td>1.020977</td>\n",
       "    </tr>\n",
       "  </tbody>\n",
       "</table>\n",
       "</div>"
      ],
      "text/plain": [
       "                     hits    midband          ub          lb     pct_b\n",
       "timestamp                                                             \n",
       "2020-07-16 09:00:00   627  66.439590  577.815006 -444.935827  1.048091\n",
       "2020-07-20 11:00:00   111  15.851212  110.598679  -78.896256  1.002118\n",
       "2020-08-11 10:00:00    87  11.926708   83.401089  -59.547673  1.025176\n",
       "2020-08-24 11:00:00   115  18.310511  112.044224  -75.423203  1.015767\n",
       "2020-09-08 09:00:00    79  12.384795   75.819877  -51.050287  1.025066\n",
       "2020-09-14 08:00:00    32   5.216640   31.948481  -21.515200  1.000964\n",
       "2020-09-21 10:00:00   311  39.240564  293.654278 -215.173150  1.034090\n",
       "2020-09-24 10:00:00   106  15.501522  104.016686  -73.013642  1.011203\n",
       "2020-09-28 11:00:00    79  10.778169   76.253119  -54.696780  1.020977"
      ]
     },
     "execution_count": 234,
     "metadata": {},
     "output_type": "execute_result"
    }
   ],
   "source": [
    "train[train['pct_b']>1]"
   ]
  },
  {
   "cell_type": "code",
   "execution_count": null,
   "metadata": {},
   "outputs": [],
   "source": []
  }
 ],
 "metadata": {
  "kernelspec": {
   "display_name": "Python 3",
   "language": "python",
   "name": "python3"
  },
  "language_info": {
   "codemirror_mode": {
    "name": "ipython",
    "version": 3
   },
   "file_extension": ".py",
   "mimetype": "text/x-python",
   "name": "python",
   "nbconvert_exporter": "python",
   "pygments_lexer": "ipython3",
   "version": "3.7.6"
  }
 },
 "nbformat": 4,
 "nbformat_minor": 4
}
